{
 "cells": [
  {
   "cell_type": "markdown",
   "id": "618fd23a",
   "metadata": {
    "origin_pos": 0
   },
   "source": [
    "# GPU\n",
    ":label:`sec_use_gpu`\n",
    "\n",
    "在 :numref:`tab_intro_decade`中，\n",
    "我们回顾了过去20年计算能力的快速增长。\n",
    "简而言之，自2000年以来，GPU性能每十年增长1000倍。\n",
    "\n",
    "本节，我们将讨论如何利用这种计算性能进行研究。\n",
    "首先是如何使用单个GPU，然后是如何使用多个GPU和多个服务器（具有多个GPU）。\n",
    "\n",
    "我们先看看如何使用单个NVIDIA GPU进行计算。\n",
    "首先，确保至少安装了一个NVIDIA GPU。\n",
    "然后，下载[NVIDIA驱动和CUDA](https://developer.nvidia.com/cuda-downloads)\n",
    "并按照提示设置适当的路径。\n",
    "当这些准备工作完成，就可以使用`nvidia-smi`命令来(**查看显卡信息。**)\n"
   ]
  },
  {
   "cell_type": "code",
   "execution_count": 1,
   "id": "369d9baa",
   "metadata": {
    "execution": {
     "iopub.execute_input": "2023-08-18T06:58:06.499888Z",
     "iopub.status.busy": "2023-08-18T06:58:06.499324Z",
     "iopub.status.idle": "2023-08-18T06:58:06.859541Z",
     "shell.execute_reply": "2023-08-18T06:58:06.858210Z"
    },
    "origin_pos": 1,
    "tab": [
     "pytorch"
    ]
   },
   "outputs": [
    {
     "name": "stdout",
     "output_type": "stream",
     "text": [
      "Fri Aug 18 06:58:06 2023       \r\n",
      "+-----------------------------------------------------------------------------+\r\n",
      "| NVIDIA-SMI 470.161.03   Driver Version: 470.161.03   CUDA Version: 11.7     |\r\n",
      "|-------------------------------+----------------------+----------------------+\r\n",
      "| GPU  Name        Persistence-M| Bus-Id        Disp.A | Volatile Uncorr. ECC |\r\n",
      "| Fan  Temp  Perf  Pwr:Usage/Cap|         Memory-Usage | GPU-Util  Compute M. |\r\n",
      "|                               |                      |               MIG M. |\r\n",
      "|===============================+======================+======================|\r\n",
      "|   0  Tesla V100-SXM2...  Off  | 00000000:00:1B.0 Off |                    0 |\r\n",
      "| N/A   41C    P0    42W / 300W |      0MiB / 16160MiB |      0%      Default |\r\n",
      "|                               |                      |                  N/A |\r\n",
      "+-------------------------------+----------------------+----------------------+\r\n"
     ]
    },
    {
     "name": "stdout",
     "output_type": "stream",
     "text": [
      "|   1  Tesla V100-SXM2...  Off  | 00000000:00:1C.0 Off |                    0 |\r\n",
      "| N/A   44C    P0   113W / 300W |   1456MiB / 16160MiB |     53%      Default |\r\n",
      "|                               |                      |                  N/A |\r\n",
      "+-------------------------------+----------------------+----------------------+\r\n",
      "|   2  Tesla V100-SXM2...  Off  | 00000000:00:1D.0 Off |                    0 |\r\n",
      "| N/A   43C    P0   120W / 300W |   1358MiB / 16160MiB |     55%      Default |\r\n",
      "|                               |                      |                  N/A |\r\n",
      "+-------------------------------+----------------------+----------------------+\r\n",
      "|   3  Tesla V100-SXM2...  Off  | 00000000:00:1E.0 Off |                    0 |\r\n",
      "| N/A   42C    P0    47W / 300W |      0MiB / 16160MiB |      0%      Default |\r\n",
      "|                               |                      |                  N/A |\r\n",
      "+-------------------------------+----------------------+----------------------+\r\n",
      "                                                                               \r\n",
      "+-----------------------------------------------------------------------------+\r\n",
      "| Processes:                                                                  |\r\n",
      "|  GPU   GI   CI        PID   Type   Process name                  GPU Memory |\r\n",
      "|        ID   ID                                                   Usage      |\r\n",
      "|=============================================================================|\r\n",
      "+-----------------------------------------------------------------------------+\r\n"
     ]
    }
   ],
   "source": [
    "!nvidia-smi"
   ]
  },
  {
   "cell_type": "markdown",
   "id": "23e1982b",
   "metadata": {
    "origin_pos": 3,
    "tab": [
     "pytorch"
    ]
   },
   "source": [
    "在PyTorch中，每个数组都有一个设备（device），\n",
    "我们通常将其称为环境（context）。\n",
    "默认情况下，所有变量和相关的计算都分配给CPU。\n",
    "有时环境可能是GPU。\n",
    "当我们跨多个服务器部署作业时，事情会变得更加棘手。\n",
    "通过智能地将数组分配给环境，\n",
    "我们可以最大限度地减少在设备之间传输数据的时间。\n",
    "例如，当在带有GPU的服务器上训练神经网络时，\n",
    "我们通常希望模型的参数在GPU上。\n"
   ]
  },
  {
   "cell_type": "markdown",
   "id": "aeacf63c",
   "metadata": {
    "origin_pos": 5
   },
   "source": [
    "要运行此部分中的程序，至少需要两个GPU。\n",
    "注意，对大多数桌面计算机来说，这可能是奢侈的，但在云中很容易获得。\n",
    "例如可以使用AWS EC2的多GPU实例。\n",
    "本书的其他章节大都不需要多个GPU，\n",
    "而本节只是为了展示数据如何在不同的设备之间传递。\n",
    "\n",
    "## [**计算设备**]\n",
    "\n",
    "我们可以指定用于存储和计算的设备，如CPU和GPU。\n",
    "默认情况下，张量是在内存中创建的，然后使用CPU计算它。\n"
   ]
  },
  {
   "cell_type": "markdown",
   "id": "872e46f0",
   "metadata": {
    "origin_pos": 7,
    "tab": [
     "pytorch"
    ]
   },
   "source": [
    "在PyTorch中，CPU和GPU可以用`torch.device('cpu')`\n",
    "和`torch.device('cuda')`表示。\n",
    "应该注意的是，`cpu`设备意味着所有物理CPU和内存，\n",
    "这意味着PyTorch的计算将尝试使用所有CPU核心。\n",
    "然而，`gpu`设备只代表一个卡和相应的显存。\n",
    "如果有多个GPU，我们使用`torch.device(f'cuda:{i}')`\n",
    "来表示第$i$块GPU（$i$从0开始）。\n",
    "另外，`cuda:0`和`cuda`是等价的。\n"
   ]
  },
  {
   "cell_type": "code",
   "execution_count": 2,
   "id": "9f69ad46",
   "metadata": {
    "execution": {
     "iopub.execute_input": "2023-08-18T06:58:06.865430Z",
     "iopub.status.busy": "2023-08-18T06:58:06.864979Z",
     "iopub.status.idle": "2023-08-18T06:58:07.970615Z",
     "shell.execute_reply": "2023-08-18T06:58:07.969801Z"
    },
    "origin_pos": 10,
    "tab": [
     "pytorch"
    ]
   },
   "outputs": [
    {
     "data": {
      "text/plain": [
       "(device(type='cpu'), device(type='cuda'), device(type='cuda', index=1))"
      ]
     },
     "execution_count": 2,
     "metadata": {},
     "output_type": "execute_result"
    }
   ],
   "source": [
    "import torch\n",
    "from torch import nn\n",
    "\n",
    "torch.device('cpu'), torch.device('cuda'), torch.device('cuda:1')"
   ]
  },
  {
   "cell_type": "markdown",
   "id": "248784cc",
   "metadata": {
    "origin_pos": 13
   },
   "source": [
    "我们可以(**查询可用gpu的数量。**)\n"
   ]
  },
  {
   "cell_type": "code",
   "execution_count": 3,
   "id": "c29151b0",
   "metadata": {
    "execution": {
     "iopub.execute_input": "2023-08-18T06:58:07.974568Z",
     "iopub.status.busy": "2023-08-18T06:58:07.973917Z",
     "iopub.status.idle": "2023-08-18T06:58:07.979097Z",
     "shell.execute_reply": "2023-08-18T06:58:07.978337Z"
    },
    "origin_pos": 15,
    "tab": [
     "pytorch"
    ]
   },
   "outputs": [
    {
     "data": {
      "text/plain": [
       "2"
      ]
     },
     "execution_count": 3,
     "metadata": {},
     "output_type": "execute_result"
    }
   ],
   "source": [
    "torch.cuda.device_count()"
   ]
  },
  {
   "cell_type": "markdown",
   "id": "6e1bc4a6",
   "metadata": {
    "origin_pos": 18
   },
   "source": [
    "现在我们定义了两个方便的函数，\n",
    "[**这两个函数允许我们在不存在所需所有GPU的情况下运行代码。**]\n"
   ]
  },
  {
   "cell_type": "code",
   "execution_count": 4,
   "id": "cda0ab76",
   "metadata": {
    "execution": {
     "iopub.execute_input": "2023-08-18T06:58:07.983261Z",
     "iopub.status.busy": "2023-08-18T06:58:07.982604Z",
     "iopub.status.idle": "2023-08-18T06:58:07.990309Z",
     "shell.execute_reply": "2023-08-18T06:58:07.989541Z"
    },
    "origin_pos": 20,
    "tab": [
     "pytorch"
    ]
   },
   "outputs": [
    {
     "data": {
      "text/plain": [
       "(device(type='cuda', index=0),\n",
       " device(type='cpu'),\n",
       " [device(type='cuda', index=0), device(type='cuda', index=1)])"
      ]
     },
     "execution_count": 4,
     "metadata": {},
     "output_type": "execute_result"
    }
   ],
   "source": [
    "def try_gpu(i=0):  #@save\n",
    "    \"\"\"如果存在，则返回gpu(i)，否则返回cpu()\"\"\"\n",
    "    if torch.cuda.device_count() >= i + 1:\n",
    "        return torch.device(f'cuda:{i}')\n",
    "    return torch.device('cpu')\n",
    "\n",
    "def try_all_gpus():  #@save\n",
    "    \"\"\"返回所有可用的GPU，如果没有GPU，则返回[cpu(),]\"\"\"\n",
    "    devices = [torch.device(f'cuda:{i}')\n",
    "             for i in range(torch.cuda.device_count())]\n",
    "    return devices if devices else [torch.device('cpu')]\n",
    "\n",
    "try_gpu(), try_gpu(10), try_all_gpus()"
   ]
  },
  {
   "cell_type": "markdown",
   "id": "034b0d3b",
   "metadata": {
    "origin_pos": 23
   },
   "source": [
    "## 张量与GPU\n",
    "\n",
    "我们可以[**查询张量所在的设备。**]\n",
    "默认情况下，张量是在CPU上创建的。\n"
   ]
  },
  {
   "cell_type": "code",
   "execution_count": 5,
   "id": "f6ab0f26",
   "metadata": {
    "execution": {
     "iopub.execute_input": "2023-08-18T06:58:07.994741Z",
     "iopub.status.busy": "2023-08-18T06:58:07.994126Z",
     "iopub.status.idle": "2023-08-18T06:58:07.999439Z",
     "shell.execute_reply": "2023-08-18T06:58:07.998673Z"
    },
    "origin_pos": 25,
    "tab": [
     "pytorch"
    ]
   },
   "outputs": [
    {
     "data": {
      "text/plain": [
       "device(type='cpu')"
      ]
     },
     "execution_count": 5,
     "metadata": {},
     "output_type": "execute_result"
    }
   ],
   "source": [
    "x = torch.tensor([1, 2, 3])\n",
    "x.device"
   ]
  },
  {
   "cell_type": "markdown",
   "id": "f39b0efa",
   "metadata": {
    "origin_pos": 28
   },
   "source": [
    "需要注意的是，无论何时我们要对多个项进行操作，\n",
    "它们都必须在同一个设备上。\n",
    "例如，如果我们对两个张量求和，\n",
    "我们需要确保两个张量都位于同一个设备上，\n",
    "否则框架将不知道在哪里存储结果，甚至不知道在哪里执行计算。\n",
    "\n",
    "### [**存储在GPU上**]\n",
    "\n",
    "有几种方法可以在GPU上存储张量。\n",
    "例如，我们可以在创建张量时指定存储设备。接\n",
    "下来，我们在第一个`gpu`上创建张量变量`X`。\n",
    "在GPU上创建的张量只消耗这个GPU的显存。\n",
    "我们可以使用`nvidia-smi`命令查看显存使用情况。\n",
    "一般来说，我们需要确保不创建超过GPU显存限制的数据。\n"
   ]
  },
  {
   "cell_type": "code",
   "execution_count": 6,
   "id": "a67dbf2f",
   "metadata": {
    "execution": {
     "iopub.execute_input": "2023-08-18T06:58:08.004162Z",
     "iopub.status.busy": "2023-08-18T06:58:08.003541Z",
     "iopub.status.idle": "2023-08-18T06:58:09.277879Z",
     "shell.execute_reply": "2023-08-18T06:58:09.277008Z"
    },
    "origin_pos": 30,
    "tab": [
     "pytorch"
    ]
   },
   "outputs": [
    {
     "data": {
      "text/plain": [
       "tensor([[1., 1., 1.],\n",
       "        [1., 1., 1.]], device='cuda:0')"
      ]
     },
     "execution_count": 6,
     "metadata": {},
     "output_type": "execute_result"
    }
   ],
   "source": [
    "X = torch.ones(2, 3, device=try_gpu())\n",
    "X"
   ]
  },
  {
   "cell_type": "markdown",
   "id": "dd17f6d7",
   "metadata": {
    "origin_pos": 33
   },
   "source": [
    "假设我们至少有两个GPU，下面的代码将在(**第二个GPU上创建一个随机张量。**)\n"
   ]
  },
  {
   "cell_type": "code",
   "execution_count": 7,
   "id": "7c0d4a84",
   "metadata": {
    "execution": {
     "iopub.execute_input": "2023-08-18T06:58:09.282814Z",
     "iopub.status.busy": "2023-08-18T06:58:09.282230Z",
     "iopub.status.idle": "2023-08-18T06:58:10.279046Z",
     "shell.execute_reply": "2023-08-18T06:58:10.278227Z"
    },
    "origin_pos": 35,
    "tab": [
     "pytorch"
    ]
   },
   "outputs": [
    {
     "data": {
      "text/plain": [
       "tensor([[0.4860, 0.1285, 0.0440],\n",
       "        [0.9743, 0.4159, 0.9979]], device='cuda:1')"
      ]
     },
     "execution_count": 7,
     "metadata": {},
     "output_type": "execute_result"
    }
   ],
   "source": [
    "Y = torch.rand(2, 3, device=try_gpu(1))\n",
    "Y"
   ]
  },
  {
   "cell_type": "markdown",
   "id": "71646fa2",
   "metadata": {
    "origin_pos": 38
   },
   "source": [
    "### 复制\n",
    "\n",
    "如果我们[**要计算`X + Y`，我们需要决定在哪里执行这个操作**]。\n",
    "例如，如 :numref:`fig_copyto`所示，\n",
    "我们可以将`X`传输到第二个GPU并在那里执行操作。\n",
    "*不要*简单地`X`加上`Y`，因为这会导致异常，\n",
    "运行时引擎不知道该怎么做：它在同一设备上找不到数据会导致失败。\n",
    "由于`Y`位于第二个GPU上，所以我们需要将`X`移到那里，\n",
    "然后才能执行相加运算。\n",
    "\n",
    "![复制数据以在同一设备上执行操作](../img/copyto.svg)\n",
    ":label:`fig_copyto`\n"
   ]
  },
  {
   "cell_type": "code",
   "execution_count": 8,
   "id": "9e700cd2",
   "metadata": {
    "execution": {
     "iopub.execute_input": "2023-08-18T06:58:10.284097Z",
     "iopub.status.busy": "2023-08-18T06:58:10.283529Z",
     "iopub.status.idle": "2023-08-18T06:58:10.290795Z",
     "shell.execute_reply": "2023-08-18T06:58:10.290007Z"
    },
    "origin_pos": 40,
    "tab": [
     "pytorch"
    ]
   },
   "outputs": [
    {
     "name": "stdout",
     "output_type": "stream",
     "text": [
      "tensor([[1., 1., 1.],\n",
      "        [1., 1., 1.]], device='cuda:0')\n",
      "tensor([[1., 1., 1.],\n",
      "        [1., 1., 1.]], device='cuda:1')\n"
     ]
    }
   ],
   "source": [
    "Z = X.cuda(1)\n",
    "print(X)\n",
    "print(Z)"
   ]
  },
  {
   "cell_type": "markdown",
   "id": "f57eab12",
   "metadata": {
    "origin_pos": 42
   },
   "source": [
    "[**现在数据在同一个GPU上（`Z`和`Y`都在），我们可以将它们相加。**]\n"
   ]
  },
  {
   "cell_type": "code",
   "execution_count": 9,
   "id": "b2f04f35",
   "metadata": {
    "execution": {
     "iopub.execute_input": "2023-08-18T06:58:10.295377Z",
     "iopub.status.busy": "2023-08-18T06:58:10.294845Z",
     "iopub.status.idle": "2023-08-18T06:58:10.301122Z",
     "shell.execute_reply": "2023-08-18T06:58:10.300297Z"
    },
    "origin_pos": 43,
    "tab": [
     "pytorch"
    ]
   },
   "outputs": [
    {
     "data": {
      "text/plain": [
       "tensor([[1.4860, 1.1285, 1.0440],\n",
       "        [1.9743, 1.4159, 1.9979]], device='cuda:1')"
      ]
     },
     "execution_count": 9,
     "metadata": {},
     "output_type": "execute_result"
    }
   ],
   "source": [
    "Y + Z"
   ]
  },
  {
   "cell_type": "markdown",
   "id": "9acbe573",
   "metadata": {
    "origin_pos": 45,
    "tab": [
     "pytorch"
    ]
   },
   "source": [
    "假设变量`Z`已经存在于第二个GPU上。\n",
    "如果我们还是调用`Z.cuda(1)`会发生什么？\n",
    "它将返回`Z`，而不会复制并分配新内存。\n"
   ]
  },
  {
   "cell_type": "code",
   "execution_count": 10,
   "id": "d6b95aa1",
   "metadata": {
    "execution": {
     "iopub.execute_input": "2023-08-18T06:58:10.305143Z",
     "iopub.status.busy": "2023-08-18T06:58:10.304592Z",
     "iopub.status.idle": "2023-08-18T06:58:10.309707Z",
     "shell.execute_reply": "2023-08-18T06:58:10.308894Z"
    },
    "origin_pos": 48,
    "tab": [
     "pytorch"
    ]
   },
   "outputs": [
    {
     "data": {
      "text/plain": [
       "True"
      ]
     },
     "execution_count": 10,
     "metadata": {},
     "output_type": "execute_result"
    }
   ],
   "source": [
    "Z.cuda(1) is Z"
   ]
  },
  {
   "cell_type": "markdown",
   "id": "35568455",
   "metadata": {
    "origin_pos": 50
   },
   "source": [
    "### 旁注\n",
    "\n",
    "人们使用GPU来进行机器学习，因为单个GPU相对运行速度快。\n",
    "但是在设备（CPU、GPU和其他机器）之间传输数据比计算慢得多。\n",
    "这也使得并行化变得更加困难，因为我们必须等待数据被发送（或者接收），\n",
    "然后才能继续进行更多的操作。\n",
    "这就是为什么拷贝操作要格外小心。\n",
    "根据经验，多个小操作比一个大操作糟糕得多。\n",
    "此外，一次执行几个操作比代码中散布的许多单个操作要好得多。\n",
    "如果一个设备必须等待另一个设备才能执行其他操作，\n",
    "那么这样的操作可能会阻塞。\n",
    "这有点像排队订购咖啡，而不像通过电话预先订购：\n",
    "当客人到店的时候，咖啡已经准备好了。\n",
    "\n",
    "最后，当我们打印张量或将张量转换为NumPy格式时，\n",
    "如果数据不在内存中，框架会首先将其复制到内存中，\n",
    "这会导致额外的传输开销。\n",
    "更糟糕的是，它现在受制于全局解释器锁，使得一切都得等待Python完成。\n",
    "\n",
    "## [**神经网络与GPU**]\n",
    "\n",
    "类似地，神经网络模型可以指定设备。\n",
    "下面的代码将模型参数放在GPU上。\n"
   ]
  },
  {
   "cell_type": "code",
   "execution_count": 11,
   "id": "587af904",
   "metadata": {
    "execution": {
     "iopub.execute_input": "2023-08-18T06:58:10.313163Z",
     "iopub.status.busy": "2023-08-18T06:58:10.312623Z",
     "iopub.status.idle": "2023-08-18T06:58:10.336351Z",
     "shell.execute_reply": "2023-08-18T06:58:10.335568Z"
    },
    "origin_pos": 52,
    "tab": [
     "pytorch"
    ]
   },
   "outputs": [],
   "source": [
    "net = nn.Sequential(nn.Linear(3, 1))\n",
    "net = net.to(device=try_gpu())"
   ]
  },
  {
   "cell_type": "markdown",
   "id": "a834a04c",
   "metadata": {
    "origin_pos": 55
   },
   "source": [
    "在接下来的几章中，\n",
    "我们将看到更多关于如何在GPU上运行模型的例子，\n",
    "因为它们将变得更加计算密集。\n",
    "\n",
    "当输入为GPU上的张量时，模型将在同一GPU上计算结果。\n"
   ]
  },
  {
   "cell_type": "code",
   "execution_count": 12,
   "id": "955f7f67",
   "metadata": {
    "execution": {
     "iopub.execute_input": "2023-08-18T06:58:10.340989Z",
     "iopub.status.busy": "2023-08-18T06:58:10.340312Z",
     "iopub.status.idle": "2023-08-18T06:58:10.930969Z",
     "shell.execute_reply": "2023-08-18T06:58:10.930143Z"
    },
    "origin_pos": 56,
    "tab": [
     "pytorch"
    ]
   },
   "outputs": [
    {
     "data": {
      "text/plain": [
       "tensor([[-0.4275],\n",
       "        [-0.4275]], device='cuda:0', grad_fn=<AddmmBackward0>)"
      ]
     },
     "execution_count": 12,
     "metadata": {},
     "output_type": "execute_result"
    }
   ],
   "source": [
    "net(X)"
   ]
  },
  {
   "cell_type": "markdown",
   "id": "fb9f9aef",
   "metadata": {
    "origin_pos": 57
   },
   "source": [
    "让我们(**确认模型参数存储在同一个GPU上。**)\n"
   ]
  },
  {
   "cell_type": "code",
   "execution_count": 13,
   "id": "bd727993",
   "metadata": {
    "execution": {
     "iopub.execute_input": "2023-08-18T06:58:10.935087Z",
     "iopub.status.busy": "2023-08-18T06:58:10.934497Z",
     "iopub.status.idle": "2023-08-18T06:58:10.939740Z",
     "shell.execute_reply": "2023-08-18T06:58:10.938974Z"
    },
    "origin_pos": 59,
    "tab": [
     "pytorch"
    ]
   },
   "outputs": [
    {
     "data": {
      "text/plain": [
       "device(type='cuda', index=0)"
      ]
     },
     "execution_count": 13,
     "metadata": {},
     "output_type": "execute_result"
    }
   ],
   "source": [
    "net[0].weight.data.device"
   ]
  },
  {
   "cell_type": "markdown",
   "id": "cf1bf3b2",
   "metadata": {
    "origin_pos": 62
   },
   "source": [
    "总之，只要所有的数据和参数都在同一个设备上，\n",
    "我们就可以有效地学习模型。\n",
    "在下面的章节中，我们将看到几个这样的例子。\n",
    "\n",
    "## 小结\n",
    "\n",
    "* 我们可以指定用于存储和计算的设备，例如CPU或GPU。默认情况下，数据在主内存中创建，然后使用CPU进行计算。\n",
    "* 深度学习框架要求计算的所有输入数据都在同一设备上，无论是CPU还是GPU。\n",
    "* 不经意地移动数据可能会显著降低性能。一个典型的错误如下：计算GPU上每个小批量的损失，并在命令行中将其报告给用户（或将其记录在NumPy `ndarray`中）时，将触发全局解释器锁，从而使所有GPU阻塞。最好是为GPU内部的日志分配内存，并且只移动较大的日志。\n"
   ]
  },
  {
   "cell_type": "markdown",
   "id": "597613c5",
   "metadata": {},
   "source": [
    "\n",
    "## 练习\n",
    "\n",
    "1. 尝试一个计算量更大的任务，比如大矩阵的乘法，看看CPU和GPU之间的速度差异。再试一个计算量很小的任务呢？\n",
    "1. 我们应该如何在GPU上读写模型参数？\n",
    "    > 1. GPU保存模型参数：先将模型和数据都移动到GPU上，然后在GPU上进行模型训练，训练完模型后，`torch.save(model.state_dict(), 'model_params.pth')`保存模型参数。\n",
    "    > 2. GPU读取模型参数：先实例化相同的模型，然后将模型移动到GPU上，最后`model.load_state_dict(torch.load('model_params.pth', map_location=device))`读取模型参数。\n",
    "1. 测量计算1000个$100 \\times 100$矩阵的矩阵乘法所需的时间，并记录输出矩阵的Frobenius范数，一次记录一个结果，而不是在GPU上保存日志并仅传输最终结果。\n",
    "1. 测量同时在两个GPU上执行两个矩阵乘法与在一个GPU上按顺序执行两个矩阵乘法所需的时间。提示：应该看到近乎线性的缩放。\n",
    "    > 因为本人只有单GPU所以不做结果展示，但是本题很好理解。假设执行一次矩阵乘法所需时间为$t$，那么同时在两个GPU上执行两个矩阵乘法的时间为$t$，因为两个GPU是并行的，而在一个GPU上按顺序执行两个矩阵乘法是串行的，所以所需时间近似为$2t$。"
   ]
  },
  {
   "cell_type": "markdown",
   "id": "7d54b485",
   "metadata": {},
   "source": [
    "## 练习解答"
   ]
  },
  {
   "cell_type": "markdown",
   "id": "8ef62b3e",
   "metadata": {},
   "source": [
    "### 1. 尝试一个计算量更大的任务，比如大矩阵的乘法，看看CPU和GPU之间的速度差异。再试一个计算量很小的任务呢？"
   ]
  },
  {
   "cell_type": "code",
   "execution_count": 2,
   "id": "aa7819e5",
   "metadata": {},
   "outputs": [],
   "source": [
    "import torch\n",
    "import time\n",
    "def matrix_multiplication(epoch, dim, device):\n",
    "    start = time.time()\n",
    "    for i in range(epoch):\n",
    "        torch.mm(torch.randn((dim, dim), device=device), torch.randn((dim, dim), device=device))\n",
    "    return time.time() - start\n"
   ]
  },
  {
   "cell_type": "markdown",
   "id": "d36363d4",
   "metadata": {},
   "source": [
    "#### 大矩阵"
   ]
  },
  {
   "cell_type": "code",
   "execution_count": 4,
   "id": "8d26b8da",
   "metadata": {},
   "outputs": [
    {
     "name": "stdout",
     "output_type": "stream",
     "text": [
      "Time of matrix multiplication on CPU: 39.29545068740845\n",
      "Time of matrix multiplication on GPU: 0.1829073429107666\n"
     ]
    }
   ],
   "source": [
    "epoch = 10\n",
    "dim = 10000\n",
    "print('Time of matrix multiplication on CPU:', matrix_multiplication(epoch, dim, torch.device('cpu')))\n",
    "if torch.cuda.is_available():\n",
    "    print('Time of matrix multiplication on GPU:', matrix_multiplication(epoch, dim, torch.device('cuda')))"
   ]
  },
  {
   "cell_type": "markdown",
   "id": "24d7cdd1",
   "metadata": {},
   "source": [
    "#### 小矩阵"
   ]
  },
  {
   "cell_type": "code",
   "execution_count": 5,
   "id": "63e02448",
   "metadata": {},
   "outputs": [
    {
     "name": "stdout",
     "output_type": "stream",
     "text": [
      "Time of matrix multiplication on CPU: 0.016000747680664062\n",
      "Time of matrix multiplication on GPU: 0.002999544143676758\n"
     ]
    }
   ],
   "source": [
    "epoch = 100\n",
    "dim = 100\n",
    "print('Time of matrix multiplication on CPU:', matrix_multiplication(epoch, dim, torch.device('cpu')))\n",
    "if torch.cuda.is_available():\n",
    "    print('Time of matrix multiplication on GPU:', matrix_multiplication(epoch, dim, torch.device('cuda')))"
   ]
  },
  {
   "cell_type": "markdown",
   "id": "c6d32a55",
   "metadata": {},
   "source": [
    "### 3. 测量计算1000个$100 \\times 100$矩阵的矩阵乘法所需的时间，并记录输出矩阵的Frobenius范数，一次记录一个结果，而不是在GPU上保存日志并仅传输最终结果。"
   ]
  },
  {
   "cell_type": "code",
   "execution_count": 1,
   "id": "5f249a3a",
   "metadata": {},
   "outputs": [
    {
     "name": "stdout",
     "output_type": "stream",
     "text": [
      "Matrix 1: Frobenius Norm = 2493.279052734375, Time Taken = 0.12259936332702637 seconds\n",
      "Matrix 2: Frobenius Norm = 2507.834716796875, Time Taken = 0.12259936332702637 seconds\n",
      "Matrix 3: Frobenius Norm = 2536.66748046875, Time Taken = 0.12259936332702637 seconds\n",
      "Matrix 4: Frobenius Norm = 2500.857177734375, Time Taken = 0.12259936332702637 seconds\n",
      "Matrix 5: Frobenius Norm = 2504.64990234375, Time Taken = 0.12259936332702637 seconds\n",
      "Matrix 6: Frobenius Norm = 2513.255615234375, Time Taken = 0.12259936332702637 seconds\n",
      "Matrix 7: Frobenius Norm = 2502.96826171875, Time Taken = 0.12364649772644043 seconds\n",
      "Matrix 8: Frobenius Norm = 2565.140380859375, Time Taken = 0.12364649772644043 seconds\n",
      "Matrix 9: Frobenius Norm = 2512.77685546875, Time Taken = 0.12364649772644043 seconds\n",
      "Matrix 10: Frobenius Norm = 2502.84228515625, Time Taken = 0.12364649772644043 seconds\n",
      "Matrix 11: Frobenius Norm = 2522.014404296875, Time Taken = 0.12364649772644043 seconds\n",
      "Matrix 12: Frobenius Norm = 2477.4677734375, Time Taken = 0.12364649772644043 seconds\n",
      "Matrix 13: Frobenius Norm = 2477.55517578125, Time Taken = 0.12364649772644043 seconds\n",
      "Matrix 14: Frobenius Norm = 2511.790283203125, Time Taken = 0.12364649772644043 seconds\n",
      "Matrix 15: Frobenius Norm = 2510.849365234375, Time Taken = 0.12364649772644043 seconds\n",
      "Matrix 16: Frobenius Norm = 2518.259521484375, Time Taken = 0.12364649772644043 seconds\n",
      "Matrix 17: Frobenius Norm = 2548.219970703125, Time Taken = 0.12364649772644043 seconds\n",
      "Matrix 18: Frobenius Norm = 2476.821044921875, Time Taken = 0.12364649772644043 seconds\n",
      "Matrix 19: Frobenius Norm = 2492.790771484375, Time Taken = 0.12364649772644043 seconds\n",
      "Matrix 20: Frobenius Norm = 2527.935302734375, Time Taken = 0.12364649772644043 seconds\n",
      "Matrix 21: Frobenius Norm = 2485.044677734375, Time Taken = 0.12464261054992676 seconds\n",
      "Matrix 22: Frobenius Norm = 2508.514892578125, Time Taken = 0.12464261054992676 seconds\n",
      "Matrix 23: Frobenius Norm = 2476.925537109375, Time Taken = 0.12464261054992676 seconds\n",
      "Matrix 24: Frobenius Norm = 2516.84423828125, Time Taken = 0.12464261054992676 seconds\n",
      "Matrix 25: Frobenius Norm = 2537.096435546875, Time Taken = 0.12464261054992676 seconds\n",
      "Matrix 26: Frobenius Norm = 2538.170654296875, Time Taken = 0.12464261054992676 seconds\n",
      "Matrix 27: Frobenius Norm = 2506.415283203125, Time Taken = 0.12464261054992676 seconds\n",
      "Matrix 28: Frobenius Norm = 2511.230712890625, Time Taken = 0.12464261054992676 seconds\n",
      "Matrix 29: Frobenius Norm = 2564.529541015625, Time Taken = 0.12464261054992676 seconds\n",
      "Matrix 30: Frobenius Norm = 2523.04248046875, Time Taken = 0.12464261054992676 seconds\n",
      "Matrix 31: Frobenius Norm = 2478.361083984375, Time Taken = 0.12464261054992676 seconds\n",
      "Matrix 32: Frobenius Norm = 2508.631591796875, Time Taken = 0.12464261054992676 seconds\n",
      "Matrix 33: Frobenius Norm = 2518.061279296875, Time Taken = 0.12464261054992676 seconds\n",
      "Matrix 34: Frobenius Norm = 2438.03466796875, Time Taken = 0.12464261054992676 seconds\n",
      "Matrix 35: Frobenius Norm = 2542.37158203125, Time Taken = 0.12464261054992676 seconds\n",
      "Matrix 36: Frobenius Norm = 2498.0556640625, Time Taken = 0.1256730556488037 seconds\n",
      "Matrix 37: Frobenius Norm = 2563.3720703125, Time Taken = 0.1256730556488037 seconds\n",
      "Matrix 38: Frobenius Norm = 2549.89501953125, Time Taken = 0.1256730556488037 seconds\n",
      "Matrix 39: Frobenius Norm = 2506.33837890625, Time Taken = 0.1256730556488037 seconds\n",
      "Matrix 40: Frobenius Norm = 2485.57763671875, Time Taken = 0.1256730556488037 seconds\n",
      "Matrix 41: Frobenius Norm = 2543.326416015625, Time Taken = 0.1256730556488037 seconds\n",
      "Matrix 42: Frobenius Norm = 2519.09814453125, Time Taken = 0.1256730556488037 seconds\n",
      "Matrix 43: Frobenius Norm = 2519.72265625, Time Taken = 0.1256730556488037 seconds\n",
      "Matrix 44: Frobenius Norm = 2523.837158203125, Time Taken = 0.1256730556488037 seconds\n",
      "Matrix 45: Frobenius Norm = 2510.8115234375, Time Taken = 0.1256730556488037 seconds\n",
      "Matrix 46: Frobenius Norm = 2536.00146484375, Time Taken = 0.1256730556488037 seconds\n",
      "Matrix 47: Frobenius Norm = 2518.250732421875, Time Taken = 0.1256730556488037 seconds\n",
      "Matrix 48: Frobenius Norm = 2504.114501953125, Time Taken = 0.1256730556488037 seconds\n",
      "Matrix 49: Frobenius Norm = 2545.130859375, Time Taken = 0.1256730556488037 seconds\n",
      "Matrix 50: Frobenius Norm = 2481.309326171875, Time Taken = 0.12667298316955566 seconds\n",
      "Matrix 51: Frobenius Norm = 2449.788330078125, Time Taken = 0.12667298316955566 seconds\n",
      "Matrix 52: Frobenius Norm = 2513.544189453125, Time Taken = 0.12667298316955566 seconds\n",
      "Matrix 53: Frobenius Norm = 2528.29736328125, Time Taken = 0.12667298316955566 seconds\n",
      "Matrix 54: Frobenius Norm = 2534.919677734375, Time Taken = 0.12667298316955566 seconds\n",
      "Matrix 55: Frobenius Norm = 2499.83349609375, Time Taken = 0.12667298316955566 seconds\n",
      "Matrix 56: Frobenius Norm = 2485.63671875, Time Taken = 0.12667298316955566 seconds\n",
      "Matrix 57: Frobenius Norm = 2493.77587890625, Time Taken = 0.12667298316955566 seconds\n",
      "Matrix 58: Frobenius Norm = 2508.359619140625, Time Taken = 0.12667298316955566 seconds\n",
      "Matrix 59: Frobenius Norm = 2539.491455078125, Time Taken = 0.12667298316955566 seconds\n",
      "Matrix 60: Frobenius Norm = 2536.95849609375, Time Taken = 0.12667298316955566 seconds\n",
      "Matrix 61: Frobenius Norm = 2590.177978515625, Time Taken = 0.12667298316955566 seconds\n",
      "Matrix 62: Frobenius Norm = 2482.670654296875, Time Taken = 0.12667298316955566 seconds\n",
      "Matrix 63: Frobenius Norm = 2480.68310546875, Time Taken = 0.12667298316955566 seconds\n",
      "Matrix 64: Frobenius Norm = 2549.103271484375, Time Taken = 0.12667298316955566 seconds\n",
      "Matrix 65: Frobenius Norm = 2544.74755859375, Time Taken = 0.12767434120178223 seconds\n",
      "Matrix 66: Frobenius Norm = 2514.231201171875, Time Taken = 0.12767434120178223 seconds\n",
      "Matrix 67: Frobenius Norm = 2490.26220703125, Time Taken = 0.12767434120178223 seconds\n",
      "Matrix 68: Frobenius Norm = 2536.899169921875, Time Taken = 0.12767434120178223 seconds\n",
      "Matrix 69: Frobenius Norm = 2516.20703125, Time Taken = 0.12767434120178223 seconds\n",
      "Matrix 70: Frobenius Norm = 2538.2265625, Time Taken = 0.12767434120178223 seconds\n",
      "Matrix 71: Frobenius Norm = 2502.154052734375, Time Taken = 0.12767434120178223 seconds\n",
      "Matrix 72: Frobenius Norm = 2542.026611328125, Time Taken = 0.12767434120178223 seconds\n",
      "Matrix 73: Frobenius Norm = 2485.1083984375, Time Taken = 0.12767434120178223 seconds\n",
      "Matrix 74: Frobenius Norm = 2502.13818359375, Time Taken = 0.12767434120178223 seconds\n",
      "Matrix 75: Frobenius Norm = 2511.36083984375, Time Taken = 0.12767434120178223 seconds\n",
      "Matrix 76: Frobenius Norm = 2524.22412109375, Time Taken = 0.12767434120178223 seconds\n",
      "Matrix 77: Frobenius Norm = 2556.226318359375, Time Taken = 0.12767434120178223 seconds\n",
      "Matrix 78: Frobenius Norm = 2551.556396484375, Time Taken = 0.12767434120178223 seconds\n",
      "Matrix 79: Frobenius Norm = 2501.09228515625, Time Taken = 0.12867498397827148 seconds\n",
      "Matrix 80: Frobenius Norm = 2515.720947265625, Time Taken = 0.12867498397827148 seconds\n",
      "Matrix 81: Frobenius Norm = 2523.649658203125, Time Taken = 0.12867498397827148 seconds\n",
      "Matrix 82: Frobenius Norm = 2513.831298828125, Time Taken = 0.12867498397827148 seconds\n",
      "Matrix 83: Frobenius Norm = 2510.8408203125, Time Taken = 0.12867498397827148 seconds\n",
      "Matrix 84: Frobenius Norm = 2518.533203125, Time Taken = 0.12867498397827148 seconds\n",
      "Matrix 85: Frobenius Norm = 2520.323974609375, Time Taken = 0.12867498397827148 seconds\n",
      "Matrix 86: Frobenius Norm = 2433.2578125, Time Taken = 0.12867498397827148 seconds\n",
      "Matrix 87: Frobenius Norm = 2526.043212890625, Time Taken = 0.12867498397827148 seconds\n",
      "Matrix 88: Frobenius Norm = 2502.89111328125, Time Taken = 0.12867498397827148 seconds\n",
      "Matrix 89: Frobenius Norm = 2502.28857421875, Time Taken = 0.12867498397827148 seconds\n",
      "Matrix 90: Frobenius Norm = 2495.64501953125, Time Taken = 0.12867498397827148 seconds\n",
      "Matrix 91: Frobenius Norm = 2524.473876953125, Time Taken = 0.12867498397827148 seconds\n",
      "Matrix 92: Frobenius Norm = 2535.41552734375, Time Taken = 0.12867498397827148 seconds\n",
      "Matrix 93: Frobenius Norm = 2484.98193359375, Time Taken = 0.12867498397827148 seconds\n",
      "Matrix 94: Frobenius Norm = 2498.467041015625, Time Taken = 0.12967181205749512 seconds\n",
      "Matrix 95: Frobenius Norm = 2591.41650390625, Time Taken = 0.12967181205749512 seconds\n",
      "Matrix 96: Frobenius Norm = 2483.50927734375, Time Taken = 0.12967181205749512 seconds\n",
      "Matrix 97: Frobenius Norm = 2468.604736328125, Time Taken = 0.12967181205749512 seconds\n",
      "Matrix 98: Frobenius Norm = 2514.055908203125, Time Taken = 0.12967181205749512 seconds\n",
      "Matrix 99: Frobenius Norm = 2534.1064453125, Time Taken = 0.12967181205749512 seconds\n",
      "Matrix 100: Frobenius Norm = 2490.781982421875, Time Taken = 0.12967181205749512 seconds\n",
      "Matrix 101: Frobenius Norm = 2538.50732421875, Time Taken = 0.12967181205749512 seconds\n",
      "Matrix 102: Frobenius Norm = 2510.1162109375, Time Taken = 0.12967181205749512 seconds\n",
      "Matrix 103: Frobenius Norm = 2491.99658203125, Time Taken = 0.12967181205749512 seconds\n",
      "Matrix 104: Frobenius Norm = 2526.220947265625, Time Taken = 0.12967181205749512 seconds\n",
      "Matrix 105: Frobenius Norm = 2546.47607421875, Time Taken = 0.12967181205749512 seconds\n",
      "Matrix 106: Frobenius Norm = 2568.62890625, Time Taken = 0.12967181205749512 seconds\n",
      "Matrix 107: Frobenius Norm = 2504.779541015625, Time Taken = 0.12967181205749512 seconds\n",
      "Matrix 108: Frobenius Norm = 2511.111572265625, Time Taken = 0.13067197799682617 seconds\n",
      "Matrix 109: Frobenius Norm = 2503.653076171875, Time Taken = 0.13067197799682617 seconds\n",
      "Matrix 110: Frobenius Norm = 2507.49853515625, Time Taken = 0.13067197799682617 seconds\n",
      "Matrix 111: Frobenius Norm = 2492.900146484375, Time Taken = 0.13067197799682617 seconds\n",
      "Matrix 112: Frobenius Norm = 2514.247314453125, Time Taken = 0.13067197799682617 seconds\n",
      "Matrix 113: Frobenius Norm = 2546.07568359375, Time Taken = 0.13067197799682617 seconds\n",
      "Matrix 114: Frobenius Norm = 2494.29638671875, Time Taken = 0.13067197799682617 seconds\n",
      "Matrix 115: Frobenius Norm = 2466.5986328125, Time Taken = 0.13067197799682617 seconds\n",
      "Matrix 116: Frobenius Norm = 2502.888916015625, Time Taken = 0.13067197799682617 seconds\n",
      "Matrix 117: Frobenius Norm = 2570.29638671875, Time Taken = 0.13067197799682617 seconds\n",
      "Matrix 118: Frobenius Norm = 2489.615478515625, Time Taken = 0.13067197799682617 seconds\n",
      "Matrix 119: Frobenius Norm = 2518.160888671875, Time Taken = 0.13067197799682617 seconds\n",
      "Matrix 120: Frobenius Norm = 2524.1943359375, Time Taken = 0.13067197799682617 seconds\n",
      "Matrix 121: Frobenius Norm = 2503.845458984375, Time Taken = 0.13067197799682617 seconds\n",
      "Matrix 122: Frobenius Norm = 2543.349609375, Time Taken = 0.13067197799682617 seconds\n",
      "Matrix 123: Frobenius Norm = 2473.163818359375, Time Taken = 0.13167977333068848 seconds\n",
      "Matrix 124: Frobenius Norm = 2492.9873046875, Time Taken = 0.13167977333068848 seconds\n",
      "Matrix 125: Frobenius Norm = 2497.71826171875, Time Taken = 0.13167977333068848 seconds\n",
      "Matrix 126: Frobenius Norm = 2486.55517578125, Time Taken = 0.13167977333068848 seconds\n",
      "Matrix 127: Frobenius Norm = 2475.343505859375, Time Taken = 0.13167977333068848 seconds\n",
      "Matrix 128: Frobenius Norm = 2509.124267578125, Time Taken = 0.13167977333068848 seconds\n",
      "Matrix 129: Frobenius Norm = 2477.241943359375, Time Taken = 0.13167977333068848 seconds\n",
      "Matrix 130: Frobenius Norm = 2475.53466796875, Time Taken = 0.13167977333068848 seconds\n",
      "Matrix 131: Frobenius Norm = 2529.224365234375, Time Taken = 0.13167977333068848 seconds\n",
      "Matrix 132: Frobenius Norm = 2446.29150390625, Time Taken = 0.13167977333068848 seconds\n",
      "Matrix 133: Frobenius Norm = 2489.607421875, Time Taken = 0.13167977333068848 seconds\n",
      "Matrix 134: Frobenius Norm = 2510.821044921875, Time Taken = 0.13167977333068848 seconds\n",
      "Matrix 135: Frobenius Norm = 2527.78125, Time Taken = 0.13167977333068848 seconds\n",
      "Matrix 136: Frobenius Norm = 2528.666259765625, Time Taken = 0.13167977333068848 seconds\n",
      "Matrix 137: Frobenius Norm = 2526.607666015625, Time Taken = 0.1326737403869629 seconds\n",
      "Matrix 138: Frobenius Norm = 2494.68603515625, Time Taken = 0.1326737403869629 seconds\n",
      "Matrix 139: Frobenius Norm = 2474.50390625, Time Taken = 0.1326737403869629 seconds\n",
      "Matrix 140: Frobenius Norm = 2514.12255859375, Time Taken = 0.1326737403869629 seconds\n",
      "Matrix 141: Frobenius Norm = 2456.194091796875, Time Taken = 0.1326737403869629 seconds\n",
      "Matrix 142: Frobenius Norm = 2539.461181640625, Time Taken = 0.1326737403869629 seconds\n",
      "Matrix 143: Frobenius Norm = 2508.665283203125, Time Taken = 0.1326737403869629 seconds\n",
      "Matrix 144: Frobenius Norm = 2487.77978515625, Time Taken = 0.1326737403869629 seconds\n",
      "Matrix 145: Frobenius Norm = 2538.64013671875, Time Taken = 0.1326737403869629 seconds\n",
      "Matrix 146: Frobenius Norm = 2515.964111328125, Time Taken = 0.1326737403869629 seconds\n",
      "Matrix 147: Frobenius Norm = 2482.774658203125, Time Taken = 0.1326737403869629 seconds\n",
      "Matrix 148: Frobenius Norm = 2565.32373046875, Time Taken = 0.1326737403869629 seconds\n",
      "Matrix 149: Frobenius Norm = 2494.277587890625, Time Taken = 0.1326737403869629 seconds\n",
      "Matrix 150: Frobenius Norm = 2468.988525390625, Time Taken = 0.1326737403869629 seconds\n",
      "Matrix 151: Frobenius Norm = 2539.942626953125, Time Taken = 0.1326737403869629 seconds\n",
      "Matrix 152: Frobenius Norm = 2459.862548828125, Time Taken = 0.13367223739624023 seconds\n",
      "Matrix 153: Frobenius Norm = 2544.363525390625, Time Taken = 0.13367223739624023 seconds\n",
      "Matrix 154: Frobenius Norm = 2552.51904296875, Time Taken = 0.13367223739624023 seconds\n",
      "Matrix 155: Frobenius Norm = 2519.46875, Time Taken = 0.13367223739624023 seconds\n",
      "Matrix 156: Frobenius Norm = 2516.887451171875, Time Taken = 0.13367223739624023 seconds\n",
      "Matrix 157: Frobenius Norm = 2524.757568359375, Time Taken = 0.13367223739624023 seconds\n",
      "Matrix 158: Frobenius Norm = 2522.140869140625, Time Taken = 0.13367223739624023 seconds\n",
      "Matrix 159: Frobenius Norm = 2512.087890625, Time Taken = 0.13367223739624023 seconds\n",
      "Matrix 160: Frobenius Norm = 2475.53369140625, Time Taken = 0.13367223739624023 seconds\n",
      "Matrix 161: Frobenius Norm = 2539.70703125, Time Taken = 0.13367223739624023 seconds\n",
      "Matrix 162: Frobenius Norm = 2453.875732421875, Time Taken = 0.13367223739624023 seconds\n",
      "Matrix 163: Frobenius Norm = 2504.270751953125, Time Taken = 0.13367223739624023 seconds\n",
      "Matrix 164: Frobenius Norm = 2470.91943359375, Time Taken = 0.13367223739624023 seconds\n",
      "Matrix 165: Frobenius Norm = 2497.1142578125, Time Taken = 0.13367223739624023 seconds\n",
      "Matrix 166: Frobenius Norm = 2448.974609375, Time Taken = 0.13367223739624023 seconds\n",
      "Matrix 167: Frobenius Norm = 2503.037109375, Time Taken = 0.1346733570098877 seconds\n",
      "Matrix 168: Frobenius Norm = 2504.2470703125, Time Taken = 0.1346733570098877 seconds\n",
      "Matrix 169: Frobenius Norm = 2487.452392578125, Time Taken = 0.1346733570098877 seconds\n",
      "Matrix 170: Frobenius Norm = 2481.947509765625, Time Taken = 0.1346733570098877 seconds\n",
      "Matrix 171: Frobenius Norm = 2565.66455078125, Time Taken = 0.1346733570098877 seconds\n",
      "Matrix 172: Frobenius Norm = 2491.63427734375, Time Taken = 0.1346733570098877 seconds\n",
      "Matrix 173: Frobenius Norm = 2448.27197265625, Time Taken = 0.1346733570098877 seconds\n",
      "Matrix 174: Frobenius Norm = 2534.518798828125, Time Taken = 0.1346733570098877 seconds\n",
      "Matrix 175: Frobenius Norm = 2532.6337890625, Time Taken = 0.1346733570098877 seconds\n",
      "Matrix 176: Frobenius Norm = 2512.97265625, Time Taken = 0.1346733570098877 seconds\n",
      "Matrix 177: Frobenius Norm = 2492.58544921875, Time Taken = 0.1346733570098877 seconds\n",
      "Matrix 178: Frobenius Norm = 2480.255615234375, Time Taken = 0.1346733570098877 seconds\n",
      "Matrix 179: Frobenius Norm = 2533.623779296875, Time Taken = 0.1346733570098877 seconds\n",
      "Matrix 180: Frobenius Norm = 2475.97265625, Time Taken = 0.1346733570098877 seconds\n",
      "Matrix 181: Frobenius Norm = 2530.397705078125, Time Taken = 0.1356661319732666 seconds\n",
      "Matrix 182: Frobenius Norm = 2517.03759765625, Time Taken = 0.1356661319732666 seconds\n",
      "Matrix 183: Frobenius Norm = 2456.039306640625, Time Taken = 0.1356661319732666 seconds\n",
      "Matrix 184: Frobenius Norm = 2485.57568359375, Time Taken = 0.1356661319732666 seconds\n",
      "Matrix 185: Frobenius Norm = 2479.406494140625, Time Taken = 0.1356661319732666 seconds\n",
      "Matrix 186: Frobenius Norm = 2504.23974609375, Time Taken = 0.1356661319732666 seconds\n",
      "Matrix 187: Frobenius Norm = 2493.53759765625, Time Taken = 0.1356661319732666 seconds\n",
      "Matrix 188: Frobenius Norm = 2518.234619140625, Time Taken = 0.1356661319732666 seconds\n",
      "Matrix 189: Frobenius Norm = 2560.568359375, Time Taken = 0.1356661319732666 seconds\n",
      "Matrix 190: Frobenius Norm = 2517.8525390625, Time Taken = 0.1356661319732666 seconds\n",
      "Matrix 191: Frobenius Norm = 2517.766357421875, Time Taken = 0.1356661319732666 seconds\n",
      "Matrix 192: Frobenius Norm = 2546.363037109375, Time Taken = 0.1356661319732666 seconds\n",
      "Matrix 193: Frobenius Norm = 2552.4560546875, Time Taken = 0.1356661319732666 seconds\n",
      "Matrix 194: Frobenius Norm = 2485.934814453125, Time Taken = 0.1366727352142334 seconds\n",
      "Matrix 195: Frobenius Norm = 2503.001220703125, Time Taken = 0.13690638542175293 seconds\n",
      "Matrix 196: Frobenius Norm = 2511.4990234375, Time Taken = 0.13690638542175293 seconds\n",
      "Matrix 197: Frobenius Norm = 2523.904296875, Time Taken = 0.13690638542175293 seconds\n",
      "Matrix 198: Frobenius Norm = 2492.6396484375, Time Taken = 0.13690638542175293 seconds\n",
      "Matrix 199: Frobenius Norm = 2515.925537109375, Time Taken = 0.13741302490234375 seconds\n",
      "Matrix 200: Frobenius Norm = 2489.87353515625, Time Taken = 0.13741302490234375 seconds\n",
      "Matrix 201: Frobenius Norm = 2483.85205078125, Time Taken = 0.13741302490234375 seconds\n",
      "Matrix 202: Frobenius Norm = 2489.432861328125, Time Taken = 0.13741302490234375 seconds\n",
      "Matrix 203: Frobenius Norm = 2510.724853515625, Time Taken = 0.13741302490234375 seconds\n",
      "Matrix 204: Frobenius Norm = 2506.895751953125, Time Taken = 0.13741302490234375 seconds\n",
      "Matrix 205: Frobenius Norm = 2480.580078125, Time Taken = 0.13741302490234375 seconds\n",
      "Matrix 206: Frobenius Norm = 2455.574462890625, Time Taken = 0.13741302490234375 seconds\n",
      "Matrix 207: Frobenius Norm = 2541.72998046875, Time Taken = 0.13741302490234375 seconds\n",
      "Matrix 208: Frobenius Norm = 2505.4794921875, Time Taken = 0.13741302490234375 seconds\n",
      "Matrix 209: Frobenius Norm = 2491.61865234375, Time Taken = 0.13741302490234375 seconds\n",
      "Matrix 210: Frobenius Norm = 2504.572998046875, Time Taken = 0.13741302490234375 seconds\n",
      "Matrix 211: Frobenius Norm = 2544.386474609375, Time Taken = 0.13841986656188965 seconds\n",
      "Matrix 212: Frobenius Norm = 2524.890380859375, Time Taken = 0.13841986656188965 seconds\n",
      "Matrix 213: Frobenius Norm = 2510.069580078125, Time Taken = 0.13841986656188965 seconds\n",
      "Matrix 214: Frobenius Norm = 2492.968505859375, Time Taken = 0.13841986656188965 seconds\n",
      "Matrix 215: Frobenius Norm = 2486.291259765625, Time Taken = 0.13841986656188965 seconds\n",
      "Matrix 216: Frobenius Norm = 2510.69384765625, Time Taken = 0.13841986656188965 seconds\n",
      "Matrix 217: Frobenius Norm = 2507.397216796875, Time Taken = 0.13841986656188965 seconds\n",
      "Matrix 218: Frobenius Norm = 2569.69921875, Time Taken = 0.13841986656188965 seconds\n",
      "Matrix 219: Frobenius Norm = 2546.336669921875, Time Taken = 0.13841986656188965 seconds\n",
      "Matrix 220: Frobenius Norm = 2500.7919921875, Time Taken = 0.13841986656188965 seconds\n",
      "Matrix 221: Frobenius Norm = 2452.458984375, Time Taken = 0.13841986656188965 seconds\n",
      "Matrix 222: Frobenius Norm = 2539.281005859375, Time Taken = 0.13841986656188965 seconds\n",
      "Matrix 223: Frobenius Norm = 2478.853759765625, Time Taken = 0.13841986656188965 seconds\n",
      "Matrix 224: Frobenius Norm = 2471.50341796875, Time Taken = 0.13841986656188965 seconds\n",
      "Matrix 225: Frobenius Norm = 2501.1318359375, Time Taken = 0.13841986656188965 seconds\n",
      "Matrix 226: Frobenius Norm = 2507.491455078125, Time Taken = 0.1394193172454834 seconds\n",
      "Matrix 227: Frobenius Norm = 2486.7099609375, Time Taken = 0.1394193172454834 seconds\n",
      "Matrix 228: Frobenius Norm = 2486.77392578125, Time Taken = 0.1394193172454834 seconds\n",
      "Matrix 229: Frobenius Norm = 2521.607421875, Time Taken = 0.1394193172454834 seconds\n",
      "Matrix 230: Frobenius Norm = 2532.292724609375, Time Taken = 0.1394193172454834 seconds\n",
      "Matrix 231: Frobenius Norm = 2460.661376953125, Time Taken = 0.1394193172454834 seconds\n",
      "Matrix 232: Frobenius Norm = 2498.72216796875, Time Taken = 0.1394193172454834 seconds\n",
      "Matrix 233: Frobenius Norm = 2531.754638671875, Time Taken = 0.1394193172454834 seconds\n",
      "Matrix 234: Frobenius Norm = 2476.214111328125, Time Taken = 0.1394193172454834 seconds\n",
      "Matrix 235: Frobenius Norm = 2478.235107421875, Time Taken = 0.1394193172454834 seconds\n",
      "Matrix 236: Frobenius Norm = 2567.5, Time Taken = 0.1394193172454834 seconds\n",
      "Matrix 237: Frobenius Norm = 2501.702392578125, Time Taken = 0.1394193172454834 seconds\n",
      "Matrix 238: Frobenius Norm = 2507.330810546875, Time Taken = 0.1394193172454834 seconds\n",
      "Matrix 239: Frobenius Norm = 2494.2158203125, Time Taken = 0.1394193172454834 seconds\n",
      "Matrix 240: Frobenius Norm = 2624.186279296875, Time Taken = 0.1394193172454834 seconds\n",
      "Matrix 241: Frobenius Norm = 2517.640380859375, Time Taken = 0.14041900634765625 seconds\n",
      "Matrix 242: Frobenius Norm = 2470.812255859375, Time Taken = 0.14041900634765625 seconds\n",
      "Matrix 243: Frobenius Norm = 2479.5244140625, Time Taken = 0.14041900634765625 seconds\n",
      "Matrix 244: Frobenius Norm = 2517.140380859375, Time Taken = 0.14041900634765625 seconds\n",
      "Matrix 245: Frobenius Norm = 2473.373779296875, Time Taken = 0.14041900634765625 seconds\n",
      "Matrix 246: Frobenius Norm = 2516.602783203125, Time Taken = 0.14041900634765625 seconds\n",
      "Matrix 247: Frobenius Norm = 2498.41357421875, Time Taken = 0.14041900634765625 seconds\n",
      "Matrix 248: Frobenius Norm = 2489.81591796875, Time Taken = 0.14041900634765625 seconds\n",
      "Matrix 249: Frobenius Norm = 2525.89208984375, Time Taken = 0.14041900634765625 seconds\n",
      "Matrix 250: Frobenius Norm = 2459.904052734375, Time Taken = 0.14041900634765625 seconds\n",
      "Matrix 251: Frobenius Norm = 2534.197509765625, Time Taken = 0.14041900634765625 seconds\n",
      "Matrix 252: Frobenius Norm = 2569.072021484375, Time Taken = 0.14041900634765625 seconds\n",
      "Matrix 253: Frobenius Norm = 2443.6103515625, Time Taken = 0.14041900634765625 seconds\n",
      "Matrix 254: Frobenius Norm = 2568.194580078125, Time Taken = 0.1414189338684082 seconds\n",
      "Matrix 255: Frobenius Norm = 2561.213134765625, Time Taken = 0.1414189338684082 seconds\n",
      "Matrix 256: Frobenius Norm = 2523.08349609375, Time Taken = 0.1414189338684082 seconds\n",
      "Matrix 257: Frobenius Norm = 2566.13330078125, Time Taken = 0.1414189338684082 seconds\n",
      "Matrix 258: Frobenius Norm = 2538.787841796875, Time Taken = 0.1414189338684082 seconds\n",
      "Matrix 259: Frobenius Norm = 2502.51611328125, Time Taken = 0.1414189338684082 seconds\n",
      "Matrix 260: Frobenius Norm = 2537.572998046875, Time Taken = 0.1414189338684082 seconds\n",
      "Matrix 261: Frobenius Norm = 2424.598876953125, Time Taken = 0.1414189338684082 seconds\n",
      "Matrix 262: Frobenius Norm = 2489.02490234375, Time Taken = 0.1414189338684082 seconds\n",
      "Matrix 263: Frobenius Norm = 2596.1611328125, Time Taken = 0.14241909980773926 seconds\n",
      "Matrix 264: Frobenius Norm = 2562.601318359375, Time Taken = 0.14241909980773926 seconds\n",
      "Matrix 265: Frobenius Norm = 2482.5283203125, Time Taken = 0.14241909980773926 seconds\n",
      "Matrix 266: Frobenius Norm = 2538.775634765625, Time Taken = 0.14241909980773926 seconds\n",
      "Matrix 267: Frobenius Norm = 2484.90625, Time Taken = 0.14241909980773926 seconds\n",
      "Matrix 268: Frobenius Norm = 2503.810302734375, Time Taken = 0.14241909980773926 seconds\n",
      "Matrix 269: Frobenius Norm = 2507.26416015625, Time Taken = 0.14241909980773926 seconds\n",
      "Matrix 270: Frobenius Norm = 2522.7744140625, Time Taken = 0.14241909980773926 seconds\n",
      "Matrix 271: Frobenius Norm = 2567.106201171875, Time Taken = 0.14241909980773926 seconds\n",
      "Matrix 272: Frobenius Norm = 2518.078857421875, Time Taken = 0.14241909980773926 seconds\n",
      "Matrix 273: Frobenius Norm = 2528.153564453125, Time Taken = 0.14241909980773926 seconds\n",
      "Matrix 274: Frobenius Norm = 2539.248779296875, Time Taken = 0.14241909980773926 seconds\n",
      "Matrix 275: Frobenius Norm = 2455.11181640625, Time Taken = 0.14241909980773926 seconds\n",
      "Matrix 276: Frobenius Norm = 2517.932373046875, Time Taken = 0.14241909980773926 seconds\n",
      "Matrix 277: Frobenius Norm = 2499.7099609375, Time Taken = 0.14241909980773926 seconds\n",
      "Matrix 278: Frobenius Norm = 2476.847900390625, Time Taken = 0.1434187889099121 seconds\n",
      "Matrix 279: Frobenius Norm = 2474.013427734375, Time Taken = 0.1434187889099121 seconds\n",
      "Matrix 280: Frobenius Norm = 2482.155029296875, Time Taken = 0.1434187889099121 seconds\n",
      "Matrix 281: Frobenius Norm = 2523.178466796875, Time Taken = 0.1434187889099121 seconds\n",
      "Matrix 282: Frobenius Norm = 2521.891845703125, Time Taken = 0.1434187889099121 seconds\n",
      "Matrix 283: Frobenius Norm = 2518.014404296875, Time Taken = 0.1434187889099121 seconds\n",
      "Matrix 284: Frobenius Norm = 2531.04443359375, Time Taken = 0.1434187889099121 seconds\n",
      "Matrix 285: Frobenius Norm = 2540.4833984375, Time Taken = 0.1434187889099121 seconds\n",
      "Matrix 286: Frobenius Norm = 2524.79150390625, Time Taken = 0.1434187889099121 seconds\n",
      "Matrix 287: Frobenius Norm = 2548.64697265625, Time Taken = 0.1434187889099121 seconds\n",
      "Matrix 288: Frobenius Norm = 2514.09130859375, Time Taken = 0.1434187889099121 seconds\n",
      "Matrix 289: Frobenius Norm = 2521.2890625, Time Taken = 0.1434187889099121 seconds\n",
      "Matrix 290: Frobenius Norm = 2462.893798828125, Time Taken = 0.1434187889099121 seconds\n",
      "Matrix 291: Frobenius Norm = 2464.006591796875, Time Taken = 0.1434187889099121 seconds\n",
      "Matrix 292: Frobenius Norm = 2478.734130859375, Time Taken = 0.1434187889099121 seconds\n",
      "Matrix 293: Frobenius Norm = 2475.954345703125, Time Taken = 0.14441919326782227 seconds\n",
      "Matrix 294: Frobenius Norm = 2460.50830078125, Time Taken = 0.14441919326782227 seconds\n",
      "Matrix 295: Frobenius Norm = 2536.87939453125, Time Taken = 0.14441919326782227 seconds\n",
      "Matrix 296: Frobenius Norm = 2532.437255859375, Time Taken = 0.14441919326782227 seconds\n",
      "Matrix 297: Frobenius Norm = 2532.302001953125, Time Taken = 0.14441919326782227 seconds\n",
      "Matrix 298: Frobenius Norm = 2482.509033203125, Time Taken = 0.14441919326782227 seconds\n",
      "Matrix 299: Frobenius Norm = 2536.75146484375, Time Taken = 0.14441919326782227 seconds\n",
      "Matrix 300: Frobenius Norm = 2496.724365234375, Time Taken = 0.14441919326782227 seconds\n",
      "Matrix 301: Frobenius Norm = 2528.604248046875, Time Taken = 0.14441919326782227 seconds\n",
      "Matrix 302: Frobenius Norm = 2485.332275390625, Time Taken = 0.14441919326782227 seconds\n",
      "Matrix 303: Frobenius Norm = 2468.88134765625, Time Taken = 0.14441919326782227 seconds\n",
      "Matrix 304: Frobenius Norm = 2487.938232421875, Time Taken = 0.14441919326782227 seconds\n",
      "Matrix 305: Frobenius Norm = 2455.621337890625, Time Taken = 0.14441919326782227 seconds\n",
      "Matrix 306: Frobenius Norm = 2523.702392578125, Time Taken = 0.14441919326782227 seconds\n",
      "Matrix 307: Frobenius Norm = 2506.552001953125, Time Taken = 0.14441919326782227 seconds\n",
      "Matrix 308: Frobenius Norm = 2550.440185546875, Time Taken = 0.14541888236999512 seconds\n",
      "Matrix 309: Frobenius Norm = 2511.149658203125, Time Taken = 0.14541888236999512 seconds\n",
      "Matrix 310: Frobenius Norm = 2506.51806640625, Time Taken = 0.14541888236999512 seconds\n",
      "Matrix 311: Frobenius Norm = 2512.378173828125, Time Taken = 0.14541888236999512 seconds\n",
      "Matrix 312: Frobenius Norm = 2505.783447265625, Time Taken = 0.14541888236999512 seconds\n",
      "Matrix 313: Frobenius Norm = 2433.010009765625, Time Taken = 0.14541888236999512 seconds\n",
      "Matrix 314: Frobenius Norm = 2502.3828125, Time Taken = 0.14541888236999512 seconds\n",
      "Matrix 315: Frobenius Norm = 2503.555908203125, Time Taken = 0.14541888236999512 seconds\n",
      "Matrix 316: Frobenius Norm = 2496.615966796875, Time Taken = 0.14541888236999512 seconds\n",
      "Matrix 317: Frobenius Norm = 2489.16552734375, Time Taken = 0.14541888236999512 seconds\n",
      "Matrix 318: Frobenius Norm = 2532.3125, Time Taken = 0.14541888236999512 seconds\n",
      "Matrix 319: Frobenius Norm = 2532.56689453125, Time Taken = 0.14541888236999512 seconds\n",
      "Matrix 320: Frobenius Norm = 2534.074462890625, Time Taken = 0.14541888236999512 seconds\n",
      "Matrix 321: Frobenius Norm = 2527.059326171875, Time Taken = 0.14541888236999512 seconds\n",
      "Matrix 322: Frobenius Norm = 2490.52685546875, Time Taken = 0.14641857147216797 seconds\n",
      "Matrix 323: Frobenius Norm = 2556.821533203125, Time Taken = 0.14641857147216797 seconds\n",
      "Matrix 324: Frobenius Norm = 2491.584716796875, Time Taken = 0.14641857147216797 seconds\n",
      "Matrix 325: Frobenius Norm = 2506.51708984375, Time Taken = 0.14641857147216797 seconds\n",
      "Matrix 326: Frobenius Norm = 2506.0888671875, Time Taken = 0.14641857147216797 seconds\n",
      "Matrix 327: Frobenius Norm = 2494.378173828125, Time Taken = 0.14641857147216797 seconds\n",
      "Matrix 328: Frobenius Norm = 2452.31884765625, Time Taken = 0.14641857147216797 seconds\n",
      "Matrix 329: Frobenius Norm = 2445.5078125, Time Taken = 0.14641857147216797 seconds\n",
      "Matrix 330: Frobenius Norm = 2470.884521484375, Time Taken = 0.14641857147216797 seconds\n",
      "Matrix 331: Frobenius Norm = 2468.6982421875, Time Taken = 0.14641857147216797 seconds\n",
      "Matrix 332: Frobenius Norm = 2544.229736328125, Time Taken = 0.14641857147216797 seconds\n",
      "Matrix 333: Frobenius Norm = 2503.125244140625, Time Taken = 0.14641857147216797 seconds\n",
      "Matrix 334: Frobenius Norm = 2525.819091796875, Time Taken = 0.14641857147216797 seconds\n",
      "Matrix 335: Frobenius Norm = 2516.964599609375, Time Taken = 0.14641857147216797 seconds\n",
      "Matrix 336: Frobenius Norm = 2520.865478515625, Time Taken = 0.14641857147216797 seconds\n",
      "Matrix 337: Frobenius Norm = 2545.879150390625, Time Taken = 0.14741873741149902 seconds\n",
      "Matrix 338: Frobenius Norm = 2527.932861328125, Time Taken = 0.14741873741149902 seconds\n",
      "Matrix 339: Frobenius Norm = 2488.052978515625, Time Taken = 0.14741873741149902 seconds\n",
      "Matrix 340: Frobenius Norm = 2556.3017578125, Time Taken = 0.14741873741149902 seconds\n",
      "Matrix 341: Frobenius Norm = 2554.405029296875, Time Taken = 0.14741873741149902 seconds\n",
      "Matrix 342: Frobenius Norm = 2490.03466796875, Time Taken = 0.14741873741149902 seconds\n",
      "Matrix 343: Frobenius Norm = 2498.650146484375, Time Taken = 0.14741873741149902 seconds\n",
      "Matrix 344: Frobenius Norm = 2503.15283203125, Time Taken = 0.14741873741149902 seconds\n",
      "Matrix 345: Frobenius Norm = 2544.71044921875, Time Taken = 0.14741873741149902 seconds\n",
      "Matrix 346: Frobenius Norm = 2539.5400390625, Time Taken = 0.14741873741149902 seconds\n",
      "Matrix 347: Frobenius Norm = 2534.36669921875, Time Taken = 0.14741873741149902 seconds\n",
      "Matrix 348: Frobenius Norm = 2487.86865234375, Time Taken = 0.14741873741149902 seconds\n",
      "Matrix 349: Frobenius Norm = 2528.938232421875, Time Taken = 0.14741873741149902 seconds\n",
      "Matrix 350: Frobenius Norm = 2503.36962890625, Time Taken = 0.14741873741149902 seconds\n",
      "Matrix 351: Frobenius Norm = 2476.61083984375, Time Taken = 0.14741873741149902 seconds\n",
      "Matrix 352: Frobenius Norm = 2546.4892578125, Time Taken = 0.14841866493225098 seconds\n",
      "Matrix 353: Frobenius Norm = 2518.284912109375, Time Taken = 0.14841866493225098 seconds\n",
      "Matrix 354: Frobenius Norm = 2487.187744140625, Time Taken = 0.14841866493225098 seconds\n",
      "Matrix 355: Frobenius Norm = 2506.7373046875, Time Taken = 0.14841866493225098 seconds\n",
      "Matrix 356: Frobenius Norm = 2501.398193359375, Time Taken = 0.14841866493225098 seconds\n",
      "Matrix 357: Frobenius Norm = 2457.613037109375, Time Taken = 0.14841866493225098 seconds\n",
      "Matrix 358: Frobenius Norm = 2466.965087890625, Time Taken = 0.14841866493225098 seconds\n",
      "Matrix 359: Frobenius Norm = 2509.00439453125, Time Taken = 0.14841866493225098 seconds\n",
      "Matrix 360: Frobenius Norm = 2510.515869140625, Time Taken = 0.14841866493225098 seconds\n",
      "Matrix 361: Frobenius Norm = 2479.379150390625, Time Taken = 0.14841866493225098 seconds\n",
      "Matrix 362: Frobenius Norm = 2510.3662109375, Time Taken = 0.14841866493225098 seconds\n",
      "Matrix 363: Frobenius Norm = 2538.024658203125, Time Taken = 0.14841866493225098 seconds\n",
      "Matrix 364: Frobenius Norm = 2482.453857421875, Time Taken = 0.14841866493225098 seconds\n",
      "Matrix 365: Frobenius Norm = 2510.86474609375, Time Taken = 0.14841866493225098 seconds\n",
      "Matrix 366: Frobenius Norm = 2515.29248046875, Time Taken = 0.14841866493225098 seconds\n",
      "Matrix 367: Frobenius Norm = 2465.85546875, Time Taken = 0.14841866493225098 seconds\n",
      "Matrix 368: Frobenius Norm = 2551.407958984375, Time Taken = 0.14941859245300293 seconds\n",
      "Matrix 369: Frobenius Norm = 2512.28173828125, Time Taken = 0.14941859245300293 seconds\n",
      "Matrix 370: Frobenius Norm = 2513.412109375, Time Taken = 0.14941859245300293 seconds\n",
      "Matrix 371: Frobenius Norm = 2502.5068359375, Time Taken = 0.14941859245300293 seconds\n",
      "Matrix 372: Frobenius Norm = 2491.345703125, Time Taken = 0.14941859245300293 seconds\n",
      "Matrix 373: Frobenius Norm = 2472.001220703125, Time Taken = 0.14941859245300293 seconds\n",
      "Matrix 374: Frobenius Norm = 2502.62451171875, Time Taken = 0.14941859245300293 seconds\n",
      "Matrix 375: Frobenius Norm = 2500.364501953125, Time Taken = 0.14941859245300293 seconds\n",
      "Matrix 376: Frobenius Norm = 2474.427734375, Time Taken = 0.14941859245300293 seconds\n",
      "Matrix 377: Frobenius Norm = 2481.30615234375, Time Taken = 0.14941859245300293 seconds\n",
      "Matrix 378: Frobenius Norm = 2515.89501953125, Time Taken = 0.14941859245300293 seconds\n",
      "Matrix 379: Frobenius Norm = 2496.266357421875, Time Taken = 0.14941859245300293 seconds\n",
      "Matrix 380: Frobenius Norm = 2536.313720703125, Time Taken = 0.14941859245300293 seconds\n",
      "Matrix 381: Frobenius Norm = 2497.210205078125, Time Taken = 0.15041851997375488 seconds\n",
      "Matrix 382: Frobenius Norm = 2504.0029296875, Time Taken = 0.15041851997375488 seconds\n",
      "Matrix 383: Frobenius Norm = 2535.156982421875, Time Taken = 0.15041851997375488 seconds\n",
      "Matrix 384: Frobenius Norm = 2478.154052734375, Time Taken = 0.15041851997375488 seconds\n",
      "Matrix 385: Frobenius Norm = 2512.83984375, Time Taken = 0.15041851997375488 seconds\n",
      "Matrix 386: Frobenius Norm = 2489.775146484375, Time Taken = 0.15041851997375488 seconds\n",
      "Matrix 387: Frobenius Norm = 2529.738525390625, Time Taken = 0.15041851997375488 seconds\n",
      "Matrix 388: Frobenius Norm = 2485.83642578125, Time Taken = 0.15041851997375488 seconds\n",
      "Matrix 389: Frobenius Norm = 2524.144287109375, Time Taken = 0.15041851997375488 seconds\n",
      "Matrix 390: Frobenius Norm = 2510.880615234375, Time Taken = 0.15041851997375488 seconds\n",
      "Matrix 391: Frobenius Norm = 2523.0107421875, Time Taken = 0.15041851997375488 seconds\n",
      "Matrix 392: Frobenius Norm = 2482.849365234375, Time Taken = 0.15041851997375488 seconds\n",
      "Matrix 393: Frobenius Norm = 2526.5341796875, Time Taken = 0.15041851997375488 seconds\n",
      "Matrix 394: Frobenius Norm = 2495.087646484375, Time Taken = 0.15041851997375488 seconds\n",
      "Matrix 395: Frobenius Norm = 2556.1689453125, Time Taken = 0.15041851997375488 seconds\n",
      "Matrix 396: Frobenius Norm = 2492.078857421875, Time Taken = 0.15141892433166504 seconds\n",
      "Matrix 397: Frobenius Norm = 2525.958251953125, Time Taken = 0.15141892433166504 seconds\n",
      "Matrix 398: Frobenius Norm = 2521.777587890625, Time Taken = 0.15141892433166504 seconds\n",
      "Matrix 399: Frobenius Norm = 2516.647216796875, Time Taken = 0.15141892433166504 seconds\n",
      "Matrix 400: Frobenius Norm = 2474.70263671875, Time Taken = 0.15141892433166504 seconds\n",
      "Matrix 401: Frobenius Norm = 2477.9404296875, Time Taken = 0.15141892433166504 seconds\n",
      "Matrix 402: Frobenius Norm = 2510.082763671875, Time Taken = 0.15141892433166504 seconds\n",
      "Matrix 403: Frobenius Norm = 2467.311279296875, Time Taken = 0.15141892433166504 seconds\n",
      "Matrix 404: Frobenius Norm = 2492.876953125, Time Taken = 0.15141892433166504 seconds\n",
      "Matrix 405: Frobenius Norm = 2523.03125, Time Taken = 0.15141892433166504 seconds\n",
      "Matrix 406: Frobenius Norm = 2474.036376953125, Time Taken = 0.15141892433166504 seconds\n",
      "Matrix 407: Frobenius Norm = 2514.265625, Time Taken = 0.15141892433166504 seconds\n",
      "Matrix 408: Frobenius Norm = 2526.1650390625, Time Taken = 0.15141892433166504 seconds\n",
      "Matrix 409: Frobenius Norm = 2492.9755859375, Time Taken = 0.15141892433166504 seconds\n",
      "Matrix 410: Frobenius Norm = 2483.50634765625, Time Taken = 0.15141892433166504 seconds\n",
      "Matrix 411: Frobenius Norm = 2539.693603515625, Time Taken = 0.1524193286895752 seconds\n",
      "Matrix 412: Frobenius Norm = 2496.706787109375, Time Taken = 0.1524193286895752 seconds\n",
      "Matrix 413: Frobenius Norm = 2533.90283203125, Time Taken = 0.1524193286895752 seconds\n",
      "Matrix 414: Frobenius Norm = 2509.363525390625, Time Taken = 0.1524193286895752 seconds\n",
      "Matrix 415: Frobenius Norm = 2494.012939453125, Time Taken = 0.1524193286895752 seconds\n",
      "Matrix 416: Frobenius Norm = 2535.3115234375, Time Taken = 0.1524193286895752 seconds\n",
      "Matrix 417: Frobenius Norm = 2539.805419921875, Time Taken = 0.1524193286895752 seconds\n",
      "Matrix 418: Frobenius Norm = 2533.2529296875, Time Taken = 0.1524193286895752 seconds\n",
      "Matrix 419: Frobenius Norm = 2464.613037109375, Time Taken = 0.1524193286895752 seconds\n",
      "Matrix 420: Frobenius Norm = 2541.112548828125, Time Taken = 0.1524193286895752 seconds\n",
      "Matrix 421: Frobenius Norm = 2509.605224609375, Time Taken = 0.1524193286895752 seconds\n",
      "Matrix 422: Frobenius Norm = 2542.05859375, Time Taken = 0.1524193286895752 seconds\n",
      "Matrix 423: Frobenius Norm = 2584.295654296875, Time Taken = 0.1524193286895752 seconds\n",
      "Matrix 424: Frobenius Norm = 2509.97900390625, Time Taken = 0.1524193286895752 seconds\n",
      "Matrix 425: Frobenius Norm = 2477.963623046875, Time Taken = 0.15341997146606445 seconds\n",
      "Matrix 426: Frobenius Norm = 2505.508544921875, Time Taken = 0.15341997146606445 seconds\n",
      "Matrix 427: Frobenius Norm = 2544.491943359375, Time Taken = 0.15341997146606445 seconds\n",
      "Matrix 428: Frobenius Norm = 2485.567626953125, Time Taken = 0.15341997146606445 seconds\n",
      "Matrix 429: Frobenius Norm = 2486.659912109375, Time Taken = 0.15341997146606445 seconds\n",
      "Matrix 430: Frobenius Norm = 2496.369384765625, Time Taken = 0.15341997146606445 seconds\n",
      "Matrix 431: Frobenius Norm = 2505.255615234375, Time Taken = 0.15341997146606445 seconds\n",
      "Matrix 432: Frobenius Norm = 2530.4814453125, Time Taken = 0.15341997146606445 seconds\n",
      "Matrix 433: Frobenius Norm = 2542.659912109375, Time Taken = 0.15341997146606445 seconds\n",
      "Matrix 434: Frobenius Norm = 2527.45849609375, Time Taken = 0.15341997146606445 seconds\n",
      "Matrix 435: Frobenius Norm = 2524.359375, Time Taken = 0.15341997146606445 seconds\n",
      "Matrix 436: Frobenius Norm = 2521.486328125, Time Taken = 0.15341997146606445 seconds\n",
      "Matrix 437: Frobenius Norm = 2529.968017578125, Time Taken = 0.15341997146606445 seconds\n",
      "Matrix 438: Frobenius Norm = 2524.605224609375, Time Taken = 0.15341997146606445 seconds\n",
      "Matrix 439: Frobenius Norm = 2514.572509765625, Time Taken = 0.1544208526611328 seconds\n",
      "Matrix 440: Frobenius Norm = 2512.85302734375, Time Taken = 0.1544208526611328 seconds\n",
      "Matrix 441: Frobenius Norm = 2499.883544921875, Time Taken = 0.1544208526611328 seconds\n",
      "Matrix 442: Frobenius Norm = 2487.1845703125, Time Taken = 0.1544208526611328 seconds\n",
      "Matrix 443: Frobenius Norm = 2526.720703125, Time Taken = 0.1544208526611328 seconds\n",
      "Matrix 444: Frobenius Norm = 2532.135498046875, Time Taken = 0.1544208526611328 seconds\n",
      "Matrix 445: Frobenius Norm = 2498.30517578125, Time Taken = 0.1544208526611328 seconds\n",
      "Matrix 446: Frobenius Norm = 2509.052490234375, Time Taken = 0.1544208526611328 seconds\n",
      "Matrix 447: Frobenius Norm = 2546.190673828125, Time Taken = 0.1544208526611328 seconds\n",
      "Matrix 448: Frobenius Norm = 2575.20458984375, Time Taken = 0.1544208526611328 seconds\n",
      "Matrix 449: Frobenius Norm = 2540.29150390625, Time Taken = 0.1544208526611328 seconds\n",
      "Matrix 450: Frobenius Norm = 2516.7333984375, Time Taken = 0.1544208526611328 seconds\n",
      "Matrix 451: Frobenius Norm = 2487.61279296875, Time Taken = 0.15541911125183105 seconds\n",
      "Matrix 452: Frobenius Norm = 2511.7138671875, Time Taken = 0.15541911125183105 seconds\n",
      "Matrix 453: Frobenius Norm = 2510.885009765625, Time Taken = 0.15541911125183105 seconds\n",
      "Matrix 454: Frobenius Norm = 2504.3603515625, Time Taken = 0.15541911125183105 seconds\n",
      "Matrix 455: Frobenius Norm = 2497.5244140625, Time Taken = 0.15541911125183105 seconds\n",
      "Matrix 456: Frobenius Norm = 2513.18408203125, Time Taken = 0.15541911125183105 seconds\n",
      "Matrix 457: Frobenius Norm = 2516.920654296875, Time Taken = 0.15541911125183105 seconds\n",
      "Matrix 458: Frobenius Norm = 2527.903076171875, Time Taken = 0.15541911125183105 seconds\n",
      "Matrix 459: Frobenius Norm = 2502.365234375, Time Taken = 0.15541911125183105 seconds\n",
      "Matrix 460: Frobenius Norm = 2561.151611328125, Time Taken = 0.15541911125183105 seconds\n",
      "Matrix 461: Frobenius Norm = 2508.220703125, Time Taken = 0.15541911125183105 seconds\n",
      "Matrix 462: Frobenius Norm = 2492.698974609375, Time Taken = 0.15541911125183105 seconds\n",
      "Matrix 463: Frobenius Norm = 2448.2060546875, Time Taken = 0.15541911125183105 seconds\n",
      "Matrix 464: Frobenius Norm = 2531.8759765625, Time Taken = 0.15541911125183105 seconds\n",
      "Matrix 465: Frobenius Norm = 2534.3896484375, Time Taken = 0.15541911125183105 seconds\n",
      "Matrix 466: Frobenius Norm = 2511.72900390625, Time Taken = 0.1564188003540039 seconds\n",
      "Matrix 467: Frobenius Norm = 2532.76220703125, Time Taken = 0.1564188003540039 seconds\n",
      "Matrix 468: Frobenius Norm = 2483.361328125, Time Taken = 0.1564188003540039 seconds\n",
      "Matrix 469: Frobenius Norm = 2533.829833984375, Time Taken = 0.1564188003540039 seconds\n",
      "Matrix 470: Frobenius Norm = 2516.512939453125, Time Taken = 0.1564188003540039 seconds\n",
      "Matrix 471: Frobenius Norm = 2486.667236328125, Time Taken = 0.1564188003540039 seconds\n",
      "Matrix 472: Frobenius Norm = 2486.155517578125, Time Taken = 0.1564188003540039 seconds\n",
      "Matrix 473: Frobenius Norm = 2538.154052734375, Time Taken = 0.1564188003540039 seconds\n",
      "Matrix 474: Frobenius Norm = 2503.31103515625, Time Taken = 0.1564188003540039 seconds\n",
      "Matrix 475: Frobenius Norm = 2577.889892578125, Time Taken = 0.1564188003540039 seconds\n",
      "Matrix 476: Frobenius Norm = 2522.491943359375, Time Taken = 0.1564188003540039 seconds\n",
      "Matrix 477: Frobenius Norm = 2489.00732421875, Time Taken = 0.1564188003540039 seconds\n",
      "Matrix 478: Frobenius Norm = 2508.3837890625, Time Taken = 0.1564188003540039 seconds\n",
      "Matrix 479: Frobenius Norm = 2472.056884765625, Time Taken = 0.1564188003540039 seconds\n",
      "Matrix 480: Frobenius Norm = 2515.671875, Time Taken = 0.15741920471191406 seconds\n",
      "Matrix 481: Frobenius Norm = 2485.199951171875, Time Taken = 0.15741920471191406 seconds\n",
      "Matrix 482: Frobenius Norm = 2523.01171875, Time Taken = 0.15741920471191406 seconds\n",
      "Matrix 483: Frobenius Norm = 2520.37841796875, Time Taken = 0.15741920471191406 seconds\n",
      "Matrix 484: Frobenius Norm = 2455.78125, Time Taken = 0.15741920471191406 seconds\n",
      "Matrix 485: Frobenius Norm = 2487.63671875, Time Taken = 0.15741920471191406 seconds\n",
      "Matrix 486: Frobenius Norm = 2466.2626953125, Time Taken = 0.15741920471191406 seconds\n",
      "Matrix 487: Frobenius Norm = 2506.20068359375, Time Taken = 0.15741920471191406 seconds\n",
      "Matrix 488: Frobenius Norm = 2516.341064453125, Time Taken = 0.15741920471191406 seconds\n",
      "Matrix 489: Frobenius Norm = 2496.645263671875, Time Taken = 0.15741920471191406 seconds\n",
      "Matrix 490: Frobenius Norm = 2512.480224609375, Time Taken = 0.15741920471191406 seconds\n",
      "Matrix 491: Frobenius Norm = 2489.82421875, Time Taken = 0.15741920471191406 seconds\n",
      "Matrix 492: Frobenius Norm = 2472.880615234375, Time Taken = 0.15741920471191406 seconds\n",
      "Matrix 493: Frobenius Norm = 2505.3916015625, Time Taken = 0.15741920471191406 seconds\n",
      "Matrix 494: Frobenius Norm = 2536.455810546875, Time Taken = 0.15741920471191406 seconds\n",
      "Matrix 495: Frobenius Norm = 2520.91796875, Time Taken = 0.15841889381408691 seconds\n",
      "Matrix 496: Frobenius Norm = 2516.5546875, Time Taken = 0.15841889381408691 seconds\n",
      "Matrix 497: Frobenius Norm = 2484.673828125, Time Taken = 0.15841889381408691 seconds\n",
      "Matrix 498: Frobenius Norm = 2462.89208984375, Time Taken = 0.15841889381408691 seconds\n",
      "Matrix 499: Frobenius Norm = 2490.452392578125, Time Taken = 0.15841889381408691 seconds\n",
      "Matrix 500: Frobenius Norm = 2500.2333984375, Time Taken = 0.15841889381408691 seconds\n",
      "Matrix 501: Frobenius Norm = 2495.325927734375, Time Taken = 0.15841889381408691 seconds\n",
      "Matrix 502: Frobenius Norm = 2444.4189453125, Time Taken = 0.15841889381408691 seconds\n",
      "Matrix 503: Frobenius Norm = 2492.603759765625, Time Taken = 0.15841889381408691 seconds\n",
      "Matrix 504: Frobenius Norm = 2489.57177734375, Time Taken = 0.15841889381408691 seconds\n",
      "Matrix 505: Frobenius Norm = 2578.431640625, Time Taken = 0.15841889381408691 seconds\n",
      "Matrix 506: Frobenius Norm = 2529.990234375, Time Taken = 0.15841889381408691 seconds\n",
      "Matrix 507: Frobenius Norm = 2545.317138671875, Time Taken = 0.15841889381408691 seconds\n",
      "Matrix 508: Frobenius Norm = 2484.87744140625, Time Taken = 0.15841889381408691 seconds\n",
      "Matrix 509: Frobenius Norm = 2507.122314453125, Time Taken = 0.15841889381408691 seconds\n",
      "Matrix 510: Frobenius Norm = 2511.88818359375, Time Taken = 0.15941882133483887 seconds\n",
      "Matrix 511: Frobenius Norm = 2510.7822265625, Time Taken = 0.15941882133483887 seconds\n",
      "Matrix 512: Frobenius Norm = 2520.890380859375, Time Taken = 0.15941882133483887 seconds\n",
      "Matrix 513: Frobenius Norm = 2515.699951171875, Time Taken = 0.15941882133483887 seconds\n",
      "Matrix 514: Frobenius Norm = 2571.256591796875, Time Taken = 0.15941882133483887 seconds\n",
      "Matrix 515: Frobenius Norm = 2530.943115234375, Time Taken = 0.15941882133483887 seconds\n",
      "Matrix 516: Frobenius Norm = 2484.228759765625, Time Taken = 0.15941882133483887 seconds\n",
      "Matrix 517: Frobenius Norm = 2496.6650390625, Time Taken = 0.15941882133483887 seconds\n",
      "Matrix 518: Frobenius Norm = 2537.28466796875, Time Taken = 0.15941882133483887 seconds\n",
      "Matrix 519: Frobenius Norm = 2485.809326171875, Time Taken = 0.15941882133483887 seconds\n",
      "Matrix 520: Frobenius Norm = 2496.000244140625, Time Taken = 0.15941882133483887 seconds\n",
      "Matrix 521: Frobenius Norm = 2491.424560546875, Time Taken = 0.15941882133483887 seconds\n",
      "Matrix 522: Frobenius Norm = 2520.0869140625, Time Taken = 0.15941882133483887 seconds\n",
      "Matrix 523: Frobenius Norm = 2547.189697265625, Time Taken = 0.15941882133483887 seconds\n",
      "Matrix 524: Frobenius Norm = 2489.13525390625, Time Taken = 0.15941882133483887 seconds\n",
      "Matrix 525: Frobenius Norm = 2522.186767578125, Time Taken = 0.16041874885559082 seconds\n",
      "Matrix 526: Frobenius Norm = 2522.048095703125, Time Taken = 0.16041874885559082 seconds\n",
      "Matrix 527: Frobenius Norm = 2554.721923828125, Time Taken = 0.16041874885559082 seconds\n",
      "Matrix 528: Frobenius Norm = 2484.41943359375, Time Taken = 0.16041874885559082 seconds\n",
      "Matrix 529: Frobenius Norm = 2522.928466796875, Time Taken = 0.16041874885559082 seconds\n",
      "Matrix 530: Frobenius Norm = 2498.907958984375, Time Taken = 0.16041874885559082 seconds\n",
      "Matrix 531: Frobenius Norm = 2504.428466796875, Time Taken = 0.16041874885559082 seconds\n",
      "Matrix 532: Frobenius Norm = 2487.55615234375, Time Taken = 0.16041874885559082 seconds\n",
      "Matrix 533: Frobenius Norm = 2538.335693359375, Time Taken = 0.16041874885559082 seconds\n",
      "Matrix 534: Frobenius Norm = 2479.0517578125, Time Taken = 0.16041874885559082 seconds\n",
      "Matrix 535: Frobenius Norm = 2512.501708984375, Time Taken = 0.16041874885559082 seconds\n",
      "Matrix 536: Frobenius Norm = 2550.28271484375, Time Taken = 0.16041874885559082 seconds\n",
      "Matrix 537: Frobenius Norm = 2475.91064453125, Time Taken = 0.16041874885559082 seconds\n",
      "Matrix 538: Frobenius Norm = 2528.330078125, Time Taken = 0.16041874885559082 seconds\n",
      "Matrix 539: Frobenius Norm = 2446.504638671875, Time Taken = 0.16041874885559082 seconds\n",
      "Matrix 540: Frobenius Norm = 2511.3017578125, Time Taken = 0.16141867637634277 seconds\n",
      "Matrix 541: Frobenius Norm = 2549.384033203125, Time Taken = 0.16141867637634277 seconds\n",
      "Matrix 542: Frobenius Norm = 2543.4912109375, Time Taken = 0.16141867637634277 seconds\n",
      "Matrix 543: Frobenius Norm = 2504.20947265625, Time Taken = 0.16141867637634277 seconds\n",
      "Matrix 544: Frobenius Norm = 2507.849365234375, Time Taken = 0.16141867637634277 seconds\n",
      "Matrix 545: Frobenius Norm = 2480.74853515625, Time Taken = 0.16141867637634277 seconds\n",
      "Matrix 546: Frobenius Norm = 2495.134033203125, Time Taken = 0.16141867637634277 seconds\n",
      "Matrix 547: Frobenius Norm = 2541.572265625, Time Taken = 0.16141867637634277 seconds\n",
      "Matrix 548: Frobenius Norm = 2501.038818359375, Time Taken = 0.16141867637634277 seconds\n",
      "Matrix 549: Frobenius Norm = 2472.80712890625, Time Taken = 0.16141867637634277 seconds\n",
      "Matrix 550: Frobenius Norm = 2512.966552734375, Time Taken = 0.16141867637634277 seconds\n",
      "Matrix 551: Frobenius Norm = 2495.787353515625, Time Taken = 0.16141867637634277 seconds\n",
      "Matrix 552: Frobenius Norm = 2491.325439453125, Time Taken = 0.16141867637634277 seconds\n",
      "Matrix 553: Frobenius Norm = 2513.097900390625, Time Taken = 0.16141867637634277 seconds\n",
      "Matrix 554: Frobenius Norm = 2500.671875, Time Taken = 0.16141867637634277 seconds\n",
      "Matrix 555: Frobenius Norm = 2509.365478515625, Time Taken = 0.16241884231567383 seconds\n",
      "Matrix 556: Frobenius Norm = 2468.2158203125, Time Taken = 0.16241884231567383 seconds\n",
      "Matrix 557: Frobenius Norm = 2528.169189453125, Time Taken = 0.16241884231567383 seconds\n",
      "Matrix 558: Frobenius Norm = 2520.658447265625, Time Taken = 0.16241884231567383 seconds\n",
      "Matrix 559: Frobenius Norm = 2527.33544921875, Time Taken = 0.16241884231567383 seconds\n",
      "Matrix 560: Frobenius Norm = 2492.33935546875, Time Taken = 0.16241884231567383 seconds\n",
      "Matrix 561: Frobenius Norm = 2506.58740234375, Time Taken = 0.16241884231567383 seconds\n",
      "Matrix 562: Frobenius Norm = 2515.246826171875, Time Taken = 0.16241884231567383 seconds\n",
      "Matrix 563: Frobenius Norm = 2486.0908203125, Time Taken = 0.16241884231567383 seconds\n",
      "Matrix 564: Frobenius Norm = 2472.1845703125, Time Taken = 0.16241884231567383 seconds\n",
      "Matrix 565: Frobenius Norm = 2506.91455078125, Time Taken = 0.16241884231567383 seconds\n",
      "Matrix 566: Frobenius Norm = 2537.6298828125, Time Taken = 0.16241884231567383 seconds\n",
      "Matrix 567: Frobenius Norm = 2513.50146484375, Time Taken = 0.16241884231567383 seconds\n",
      "Matrix 568: Frobenius Norm = 2512.076171875, Time Taken = 0.16241884231567383 seconds\n",
      "Matrix 569: Frobenius Norm = 2524.404296875, Time Taken = 0.16241884231567383 seconds\n",
      "Matrix 570: Frobenius Norm = 2518.308837890625, Time Taken = 0.16341876983642578 seconds\n",
      "Matrix 571: Frobenius Norm = 2546.150390625, Time Taken = 0.16341876983642578 seconds\n",
      "Matrix 572: Frobenius Norm = 2534.376953125, Time Taken = 0.16341876983642578 seconds\n",
      "Matrix 573: Frobenius Norm = 2521.7509765625, Time Taken = 0.16341876983642578 seconds\n",
      "Matrix 574: Frobenius Norm = 2608.408203125, Time Taken = 0.16341876983642578 seconds\n",
      "Matrix 575: Frobenius Norm = 2446.473388671875, Time Taken = 0.16341876983642578 seconds\n",
      "Matrix 576: Frobenius Norm = 2562.404296875, Time Taken = 0.16341876983642578 seconds\n",
      "Matrix 577: Frobenius Norm = 2478.965576171875, Time Taken = 0.16341876983642578 seconds\n",
      "Matrix 578: Frobenius Norm = 2500.904296875, Time Taken = 0.16341876983642578 seconds\n",
      "Matrix 579: Frobenius Norm = 2534.32275390625, Time Taken = 0.16341876983642578 seconds\n",
      "Matrix 580: Frobenius Norm = 2498.742919921875, Time Taken = 0.16341876983642578 seconds\n",
      "Matrix 581: Frobenius Norm = 2526.2001953125, Time Taken = 0.16341876983642578 seconds\n",
      "Matrix 582: Frobenius Norm = 2484.69189453125, Time Taken = 0.16341876983642578 seconds\n",
      "Matrix 583: Frobenius Norm = 2480.3857421875, Time Taken = 0.16341876983642578 seconds\n",
      "Matrix 584: Frobenius Norm = 2523.5595703125, Time Taken = 0.16341876983642578 seconds\n",
      "Matrix 585: Frobenius Norm = 2517.436767578125, Time Taken = 0.16441869735717773 seconds\n",
      "Matrix 586: Frobenius Norm = 2552.42041015625, Time Taken = 0.16441869735717773 seconds\n",
      "Matrix 587: Frobenius Norm = 2485.5791015625, Time Taken = 0.16441869735717773 seconds\n",
      "Matrix 588: Frobenius Norm = 2538.589599609375, Time Taken = 0.16441869735717773 seconds\n",
      "Matrix 589: Frobenius Norm = 2492.0625, Time Taken = 0.16441869735717773 seconds\n",
      "Matrix 590: Frobenius Norm = 2481.772705078125, Time Taken = 0.16441869735717773 seconds\n",
      "Matrix 591: Frobenius Norm = 2535.976806640625, Time Taken = 0.16441869735717773 seconds\n",
      "Matrix 592: Frobenius Norm = 2539.649658203125, Time Taken = 0.16441869735717773 seconds\n",
      "Matrix 593: Frobenius Norm = 2499.48828125, Time Taken = 0.16441869735717773 seconds\n",
      "Matrix 594: Frobenius Norm = 2563.010009765625, Time Taken = 0.16441869735717773 seconds\n",
      "Matrix 595: Frobenius Norm = 2491.969482421875, Time Taken = 0.16441869735717773 seconds\n",
      "Matrix 596: Frobenius Norm = 2506.544189453125, Time Taken = 0.16441869735717773 seconds\n",
      "Matrix 597: Frobenius Norm = 2519.5458984375, Time Taken = 0.16441869735717773 seconds\n",
      "Matrix 598: Frobenius Norm = 2526.172607421875, Time Taken = 0.16441869735717773 seconds\n",
      "Matrix 599: Frobenius Norm = 2523.078857421875, Time Taken = 0.16441869735717773 seconds\n",
      "Matrix 600: Frobenius Norm = 2533.115966796875, Time Taken = 0.1654186248779297 seconds\n",
      "Matrix 601: Frobenius Norm = 2556.737060546875, Time Taken = 0.1654186248779297 seconds\n",
      "Matrix 602: Frobenius Norm = 2480.827880859375, Time Taken = 0.1654186248779297 seconds\n",
      "Matrix 603: Frobenius Norm = 2527.988525390625, Time Taken = 0.1654186248779297 seconds\n",
      "Matrix 604: Frobenius Norm = 2498.25048828125, Time Taken = 0.1654186248779297 seconds\n",
      "Matrix 605: Frobenius Norm = 2480.807373046875, Time Taken = 0.1654186248779297 seconds\n",
      "Matrix 606: Frobenius Norm = 2460.87890625, Time Taken = 0.1654186248779297 seconds\n",
      "Matrix 607: Frobenius Norm = 2510.970703125, Time Taken = 0.1654186248779297 seconds\n",
      "Matrix 608: Frobenius Norm = 2523.04931640625, Time Taken = 0.1654186248779297 seconds\n",
      "Matrix 609: Frobenius Norm = 2500.59228515625, Time Taken = 0.1654186248779297 seconds\n",
      "Matrix 610: Frobenius Norm = 2500.618408203125, Time Taken = 0.1654186248779297 seconds\n",
      "Matrix 611: Frobenius Norm = 2474.8037109375, Time Taken = 0.1654186248779297 seconds\n",
      "Matrix 612: Frobenius Norm = 2520.889892578125, Time Taken = 0.1654186248779297 seconds\n",
      "Matrix 613: Frobenius Norm = 2520.40283203125, Time Taken = 0.1654186248779297 seconds\n",
      "Matrix 614: Frobenius Norm = 2470.80859375, Time Taken = 0.1654186248779297 seconds\n",
      "Matrix 615: Frobenius Norm = 2528.75830078125, Time Taken = 0.16641855239868164 seconds\n",
      "Matrix 616: Frobenius Norm = 2503.724853515625, Time Taken = 0.16641855239868164 seconds\n",
      "Matrix 617: Frobenius Norm = 2505.38037109375, Time Taken = 0.16641855239868164 seconds\n",
      "Matrix 618: Frobenius Norm = 2506.69189453125, Time Taken = 0.16641855239868164 seconds\n",
      "Matrix 619: Frobenius Norm = 2520.889404296875, Time Taken = 0.16641855239868164 seconds\n",
      "Matrix 620: Frobenius Norm = 2463.024169921875, Time Taken = 0.16641855239868164 seconds\n",
      "Matrix 621: Frobenius Norm = 2505.219970703125, Time Taken = 0.16641855239868164 seconds\n",
      "Matrix 622: Frobenius Norm = 2502.014892578125, Time Taken = 0.16641855239868164 seconds\n",
      "Matrix 623: Frobenius Norm = 2577.912109375, Time Taken = 0.16641855239868164 seconds\n",
      "Matrix 624: Frobenius Norm = 2512.059326171875, Time Taken = 0.16641855239868164 seconds\n",
      "Matrix 625: Frobenius Norm = 2518.999755859375, Time Taken = 0.16641855239868164 seconds\n",
      "Matrix 626: Frobenius Norm = 2530.809814453125, Time Taken = 0.16641855239868164 seconds\n",
      "Matrix 627: Frobenius Norm = 2568.097412109375, Time Taken = 0.16641855239868164 seconds\n",
      "Matrix 628: Frobenius Norm = 2536.746337890625, Time Taken = 0.16641855239868164 seconds\n",
      "Matrix 629: Frobenius Norm = 2517.406494140625, Time Taken = 0.16641855239868164 seconds\n",
      "Matrix 630: Frobenius Norm = 2505.58056640625, Time Taken = 0.1674187183380127 seconds\n",
      "Matrix 631: Frobenius Norm = 2535.972900390625, Time Taken = 0.1674187183380127 seconds\n",
      "Matrix 632: Frobenius Norm = 2531.861572265625, Time Taken = 0.1674187183380127 seconds\n",
      "Matrix 633: Frobenius Norm = 2543.5966796875, Time Taken = 0.1674187183380127 seconds\n",
      "Matrix 634: Frobenius Norm = 2508.455810546875, Time Taken = 0.1674187183380127 seconds\n",
      "Matrix 635: Frobenius Norm = 2500.538818359375, Time Taken = 0.1674187183380127 seconds\n",
      "Matrix 636: Frobenius Norm = 2448.50927734375, Time Taken = 0.1674187183380127 seconds\n",
      "Matrix 637: Frobenius Norm = 2465.82763671875, Time Taken = 0.1674187183380127 seconds\n",
      "Matrix 638: Frobenius Norm = 2500.022216796875, Time Taken = 0.1674187183380127 seconds\n",
      "Matrix 639: Frobenius Norm = 2469.745849609375, Time Taken = 0.1674187183380127 seconds\n",
      "Matrix 640: Frobenius Norm = 2449.542236328125, Time Taken = 0.1674187183380127 seconds\n",
      "Matrix 641: Frobenius Norm = 2500.284423828125, Time Taken = 0.1674187183380127 seconds\n",
      "Matrix 642: Frobenius Norm = 2520.796142578125, Time Taken = 0.1674187183380127 seconds\n",
      "Matrix 643: Frobenius Norm = 2554.850830078125, Time Taken = 0.1674187183380127 seconds\n",
      "Matrix 644: Frobenius Norm = 2546.850830078125, Time Taken = 0.1674187183380127 seconds\n",
      "Matrix 645: Frobenius Norm = 2485.173095703125, Time Taken = 0.16841864585876465 seconds\n",
      "Matrix 646: Frobenius Norm = 2451.702880859375, Time Taken = 0.16841864585876465 seconds\n",
      "Matrix 647: Frobenius Norm = 2488.808349609375, Time Taken = 0.16841864585876465 seconds\n",
      "Matrix 648: Frobenius Norm = 2537.456298828125, Time Taken = 0.16841864585876465 seconds\n",
      "Matrix 649: Frobenius Norm = 2522.277099609375, Time Taken = 0.16841864585876465 seconds\n",
      "Matrix 650: Frobenius Norm = 2491.084716796875, Time Taken = 0.16841864585876465 seconds\n",
      "Matrix 651: Frobenius Norm = 2480.354736328125, Time Taken = 0.16841864585876465 seconds\n",
      "Matrix 652: Frobenius Norm = 2490.259033203125, Time Taken = 0.16841864585876465 seconds\n",
      "Matrix 653: Frobenius Norm = 2510.253173828125, Time Taken = 0.16841864585876465 seconds\n",
      "Matrix 654: Frobenius Norm = 2554.06787109375, Time Taken = 0.16841864585876465 seconds\n",
      "Matrix 655: Frobenius Norm = 2510.478759765625, Time Taken = 0.16841864585876465 seconds\n",
      "Matrix 656: Frobenius Norm = 2551.612060546875, Time Taken = 0.16841864585876465 seconds\n",
      "Matrix 657: Frobenius Norm = 2515.591064453125, Time Taken = 0.16841864585876465 seconds\n",
      "Matrix 658: Frobenius Norm = 2510.7314453125, Time Taken = 0.16942095756530762 seconds\n",
      "Matrix 659: Frobenius Norm = 2541.10400390625, Time Taken = 0.16942095756530762 seconds\n",
      "Matrix 660: Frobenius Norm = 2513.42626953125, Time Taken = 0.16942095756530762 seconds\n",
      "Matrix 661: Frobenius Norm = 2476.1396484375, Time Taken = 0.16942095756530762 seconds\n",
      "Matrix 662: Frobenius Norm = 2511.6142578125, Time Taken = 0.16942095756530762 seconds\n",
      "Matrix 663: Frobenius Norm = 2542.779541015625, Time Taken = 0.16942095756530762 seconds\n",
      "Matrix 664: Frobenius Norm = 2453.275146484375, Time Taken = 0.16942095756530762 seconds\n",
      "Matrix 665: Frobenius Norm = 2494.203125, Time Taken = 0.16942095756530762 seconds\n",
      "Matrix 666: Frobenius Norm = 2535.822265625, Time Taken = 0.16942095756530762 seconds\n",
      "Matrix 667: Frobenius Norm = 2589.913818359375, Time Taken = 0.16942095756530762 seconds\n",
      "Matrix 668: Frobenius Norm = 2512.726318359375, Time Taken = 0.16942095756530762 seconds\n",
      "Matrix 669: Frobenius Norm = 2488.829345703125, Time Taken = 0.16942095756530762 seconds\n",
      "Matrix 670: Frobenius Norm = 2504.08154296875, Time Taken = 0.16942095756530762 seconds\n",
      "Matrix 671: Frobenius Norm = 2550.974853515625, Time Taken = 0.16942095756530762 seconds\n",
      "Matrix 672: Frobenius Norm = 2521.188720703125, Time Taken = 0.16942095756530762 seconds\n",
      "Matrix 673: Frobenius Norm = 2481.2421875, Time Taken = 0.17041921615600586 seconds\n",
      "Matrix 674: Frobenius Norm = 2487.118896484375, Time Taken = 0.17041921615600586 seconds\n",
      "Matrix 675: Frobenius Norm = 2471.716796875, Time Taken = 0.17041921615600586 seconds\n",
      "Matrix 676: Frobenius Norm = 2509.663330078125, Time Taken = 0.17041921615600586 seconds\n",
      "Matrix 677: Frobenius Norm = 2546.35205078125, Time Taken = 0.17041921615600586 seconds\n",
      "Matrix 678: Frobenius Norm = 2595.487060546875, Time Taken = 0.17041921615600586 seconds\n",
      "Matrix 679: Frobenius Norm = 2507.54541015625, Time Taken = 0.17041921615600586 seconds\n",
      "Matrix 680: Frobenius Norm = 2540.925048828125, Time Taken = 0.17041921615600586 seconds\n",
      "Matrix 681: Frobenius Norm = 2472.543212890625, Time Taken = 0.17041921615600586 seconds\n",
      "Matrix 682: Frobenius Norm = 2557.451904296875, Time Taken = 0.17041921615600586 seconds\n",
      "Matrix 683: Frobenius Norm = 2492.744140625, Time Taken = 0.17041921615600586 seconds\n",
      "Matrix 684: Frobenius Norm = 2481.57275390625, Time Taken = 0.17041921615600586 seconds\n",
      "Matrix 685: Frobenius Norm = 2470.370361328125, Time Taken = 0.17041921615600586 seconds\n",
      "Matrix 686: Frobenius Norm = 2569.883544921875, Time Taken = 0.17041921615600586 seconds\n",
      "Matrix 687: Frobenius Norm = 2462.1884765625, Time Taken = 0.17041921615600586 seconds\n",
      "Matrix 688: Frobenius Norm = 2491.139892578125, Time Taken = 0.1714189052581787 seconds\n",
      "Matrix 689: Frobenius Norm = 2503.748291015625, Time Taken = 0.1714189052581787 seconds\n",
      "Matrix 690: Frobenius Norm = 2468.63037109375, Time Taken = 0.1714189052581787 seconds\n",
      "Matrix 691: Frobenius Norm = 2522.881103515625, Time Taken = 0.1714189052581787 seconds\n",
      "Matrix 692: Frobenius Norm = 2485.749755859375, Time Taken = 0.1714189052581787 seconds\n",
      "Matrix 693: Frobenius Norm = 2464.8076171875, Time Taken = 0.1714189052581787 seconds\n",
      "Matrix 694: Frobenius Norm = 2509.7236328125, Time Taken = 0.1714189052581787 seconds\n",
      "Matrix 695: Frobenius Norm = 2552.607421875, Time Taken = 0.1714189052581787 seconds\n",
      "Matrix 696: Frobenius Norm = 2480.594970703125, Time Taken = 0.1714189052581787 seconds\n",
      "Matrix 697: Frobenius Norm = 2563.7099609375, Time Taken = 0.1714189052581787 seconds\n",
      "Matrix 698: Frobenius Norm = 2476.974853515625, Time Taken = 0.1714189052581787 seconds\n",
      "Matrix 699: Frobenius Norm = 2528.397705078125, Time Taken = 0.17241907119750977 seconds\n",
      "Matrix 700: Frobenius Norm = 2519.70068359375, Time Taken = 0.17241907119750977 seconds\n",
      "Matrix 701: Frobenius Norm = 2499.442626953125, Time Taken = 0.17241907119750977 seconds\n",
      "Matrix 702: Frobenius Norm = 2474.45849609375, Time Taken = 0.17241907119750977 seconds\n",
      "Matrix 703: Frobenius Norm = 2494.49853515625, Time Taken = 0.17241907119750977 seconds\n",
      "Matrix 704: Frobenius Norm = 2486.6689453125, Time Taken = 0.17241907119750977 seconds\n",
      "Matrix 705: Frobenius Norm = 2557.635498046875, Time Taken = 0.17241907119750977 seconds\n",
      "Matrix 706: Frobenius Norm = 2500.13916015625, Time Taken = 0.17241907119750977 seconds\n",
      "Matrix 707: Frobenius Norm = 2563.491455078125, Time Taken = 0.17241907119750977 seconds\n",
      "Matrix 708: Frobenius Norm = 2494.673095703125, Time Taken = 0.17241907119750977 seconds\n",
      "Matrix 709: Frobenius Norm = 2485.886474609375, Time Taken = 0.17241907119750977 seconds\n",
      "Matrix 710: Frobenius Norm = 2473.717529296875, Time Taken = 0.17241907119750977 seconds\n",
      "Matrix 711: Frobenius Norm = 2478.9306640625, Time Taken = 0.17241907119750977 seconds\n",
      "Matrix 712: Frobenius Norm = 2480.686279296875, Time Taken = 0.17341899871826172 seconds\n",
      "Matrix 713: Frobenius Norm = 2542.956787109375, Time Taken = 0.17341899871826172 seconds\n",
      "Matrix 714: Frobenius Norm = 2504.605224609375, Time Taken = 0.17341899871826172 seconds\n",
      "Matrix 715: Frobenius Norm = 2519.33251953125, Time Taken = 0.17341899871826172 seconds\n",
      "Matrix 716: Frobenius Norm = 2498.513671875, Time Taken = 0.17341899871826172 seconds\n",
      "Matrix 717: Frobenius Norm = 2510.77734375, Time Taken = 0.17341899871826172 seconds\n",
      "Matrix 718: Frobenius Norm = 2558.455078125, Time Taken = 0.17341899871826172 seconds\n",
      "Matrix 719: Frobenius Norm = 2492.58056640625, Time Taken = 0.17341899871826172 seconds\n",
      "Matrix 720: Frobenius Norm = 2503.055908203125, Time Taken = 0.17341899871826172 seconds\n",
      "Matrix 721: Frobenius Norm = 2501.307373046875, Time Taken = 0.17341899871826172 seconds\n",
      "Matrix 722: Frobenius Norm = 2506.820068359375, Time Taken = 0.17341899871826172 seconds\n",
      "Matrix 723: Frobenius Norm = 2534.77490234375, Time Taken = 0.17341899871826172 seconds\n",
      "Matrix 724: Frobenius Norm = 2537.5458984375, Time Taken = 0.17341899871826172 seconds\n",
      "Matrix 725: Frobenius Norm = 2495.96533203125, Time Taken = 0.17341899871826172 seconds\n",
      "Matrix 726: Frobenius Norm = 2564.272705078125, Time Taken = 0.17341899871826172 seconds\n",
      "Matrix 727: Frobenius Norm = 2491.887939453125, Time Taken = 0.17441892623901367 seconds\n",
      "Matrix 728: Frobenius Norm = 2500.21630859375, Time Taken = 0.17441892623901367 seconds\n",
      "Matrix 729: Frobenius Norm = 2439.260009765625, Time Taken = 0.17441892623901367 seconds\n",
      "Matrix 730: Frobenius Norm = 2490.266845703125, Time Taken = 0.17441892623901367 seconds\n",
      "Matrix 731: Frobenius Norm = 2484.84619140625, Time Taken = 0.17441892623901367 seconds\n",
      "Matrix 732: Frobenius Norm = 2556.15087890625, Time Taken = 0.17441892623901367 seconds\n",
      "Matrix 733: Frobenius Norm = 2495.7109375, Time Taken = 0.17441892623901367 seconds\n",
      "Matrix 734: Frobenius Norm = 2528.17236328125, Time Taken = 0.17441892623901367 seconds\n",
      "Matrix 735: Frobenius Norm = 2488.570556640625, Time Taken = 0.17441892623901367 seconds\n",
      "Matrix 736: Frobenius Norm = 2558.7490234375, Time Taken = 0.17441892623901367 seconds\n",
      "Matrix 737: Frobenius Norm = 2519.25830078125, Time Taken = 0.17441892623901367 seconds\n",
      "Matrix 738: Frobenius Norm = 2526.146240234375, Time Taken = 0.17441892623901367 seconds\n",
      "Matrix 739: Frobenius Norm = 2488.498291015625, Time Taken = 0.17441892623901367 seconds\n",
      "Matrix 740: Frobenius Norm = 2466.993896484375, Time Taken = 0.17441892623901367 seconds\n",
      "Matrix 741: Frobenius Norm = 2516.326171875, Time Taken = 0.17441892623901367 seconds\n",
      "Matrix 742: Frobenius Norm = 2517.263916015625, Time Taken = 0.17541885375976562 seconds\n",
      "Matrix 743: Frobenius Norm = 2505.104248046875, Time Taken = 0.17541885375976562 seconds\n",
      "Matrix 744: Frobenius Norm = 2490.173095703125, Time Taken = 0.17541885375976562 seconds\n",
      "Matrix 745: Frobenius Norm = 2535.285888671875, Time Taken = 0.17541885375976562 seconds\n",
      "Matrix 746: Frobenius Norm = 2550.877685546875, Time Taken = 0.17541885375976562 seconds\n",
      "Matrix 747: Frobenius Norm = 2472.587646484375, Time Taken = 0.17541885375976562 seconds\n",
      "Matrix 748: Frobenius Norm = 2541.00048828125, Time Taken = 0.17541885375976562 seconds\n",
      "Matrix 749: Frobenius Norm = 2541.70703125, Time Taken = 0.17541885375976562 seconds\n",
      "Matrix 750: Frobenius Norm = 2478.237548828125, Time Taken = 0.17541885375976562 seconds\n",
      "Matrix 751: Frobenius Norm = 2487.129638671875, Time Taken = 0.17541885375976562 seconds\n",
      "Matrix 752: Frobenius Norm = 2489.806396484375, Time Taken = 0.17541885375976562 seconds\n",
      "Matrix 753: Frobenius Norm = 2499.6220703125, Time Taken = 0.17541885375976562 seconds\n",
      "Matrix 754: Frobenius Norm = 2460.831298828125, Time Taken = 0.17541885375976562 seconds\n",
      "Matrix 755: Frobenius Norm = 2565.261962890625, Time Taken = 0.17541885375976562 seconds\n",
      "Matrix 756: Frobenius Norm = 2488.16015625, Time Taken = 0.17541885375976562 seconds\n",
      "Matrix 757: Frobenius Norm = 2538.3515625, Time Taken = 0.17641878128051758 seconds\n",
      "Matrix 758: Frobenius Norm = 2475.9765625, Time Taken = 0.17641878128051758 seconds\n",
      "Matrix 759: Frobenius Norm = 2487.414794921875, Time Taken = 0.17641878128051758 seconds\n",
      "Matrix 760: Frobenius Norm = 2470.779541015625, Time Taken = 0.17641878128051758 seconds\n",
      "Matrix 761: Frobenius Norm = 2467.353271484375, Time Taken = 0.17641878128051758 seconds\n",
      "Matrix 762: Frobenius Norm = 2509.322021484375, Time Taken = 0.17641878128051758 seconds\n",
      "Matrix 763: Frobenius Norm = 2523.42626953125, Time Taken = 0.17641878128051758 seconds\n",
      "Matrix 764: Frobenius Norm = 2539.995361328125, Time Taken = 0.17641878128051758 seconds\n",
      "Matrix 765: Frobenius Norm = 2511.245849609375, Time Taken = 0.17641878128051758 seconds\n",
      "Matrix 766: Frobenius Norm = 2475.4521484375, Time Taken = 0.17641878128051758 seconds\n",
      "Matrix 767: Frobenius Norm = 2521.168701171875, Time Taken = 0.17641878128051758 seconds\n",
      "Matrix 768: Frobenius Norm = 2521.98583984375, Time Taken = 0.17641878128051758 seconds\n",
      "Matrix 769: Frobenius Norm = 2505.626953125, Time Taken = 0.17641878128051758 seconds\n",
      "Matrix 770: Frobenius Norm = 2551.82568359375, Time Taken = 0.17641878128051758 seconds\n",
      "Matrix 771: Frobenius Norm = 2514.223388671875, Time Taken = 0.17641878128051758 seconds\n",
      "Matrix 772: Frobenius Norm = 2497.580810546875, Time Taken = 0.17741870880126953 seconds\n",
      "Matrix 773: Frobenius Norm = 2511.119384765625, Time Taken = 0.17741870880126953 seconds\n",
      "Matrix 774: Frobenius Norm = 2502.95556640625, Time Taken = 0.17741870880126953 seconds\n",
      "Matrix 775: Frobenius Norm = 2542.88525390625, Time Taken = 0.17741870880126953 seconds\n",
      "Matrix 776: Frobenius Norm = 2501.90185546875, Time Taken = 0.17741870880126953 seconds\n",
      "Matrix 777: Frobenius Norm = 2533.58984375, Time Taken = 0.17741870880126953 seconds\n",
      "Matrix 778: Frobenius Norm = 2494.2734375, Time Taken = 0.17741870880126953 seconds\n",
      "Matrix 779: Frobenius Norm = 2511.89453125, Time Taken = 0.17741870880126953 seconds\n",
      "Matrix 780: Frobenius Norm = 2467.6259765625, Time Taken = 0.17741870880126953 seconds\n",
      "Matrix 781: Frobenius Norm = 2528.854736328125, Time Taken = 0.17741870880126953 seconds\n",
      "Matrix 782: Frobenius Norm = 2575.474365234375, Time Taken = 0.17741870880126953 seconds\n",
      "Matrix 783: Frobenius Norm = 2470.109130859375, Time Taken = 0.17741870880126953 seconds\n",
      "Matrix 784: Frobenius Norm = 2549.335693359375, Time Taken = 0.17741870880126953 seconds\n",
      "Matrix 785: Frobenius Norm = 2510.039306640625, Time Taken = 0.17741870880126953 seconds\n",
      "Matrix 786: Frobenius Norm = 2533.983642578125, Time Taken = 0.17741870880126953 seconds\n",
      "Matrix 787: Frobenius Norm = 2571.387451171875, Time Taken = 0.17841863632202148 seconds\n",
      "Matrix 788: Frobenius Norm = 2493.6552734375, Time Taken = 0.17841863632202148 seconds\n",
      "Matrix 789: Frobenius Norm = 2536.68408203125, Time Taken = 0.17841863632202148 seconds\n",
      "Matrix 790: Frobenius Norm = 2519.89453125, Time Taken = 0.17841863632202148 seconds\n",
      "Matrix 791: Frobenius Norm = 2508.43505859375, Time Taken = 0.17841863632202148 seconds\n",
      "Matrix 792: Frobenius Norm = 2472.2412109375, Time Taken = 0.17841863632202148 seconds\n",
      "Matrix 793: Frobenius Norm = 2484.219482421875, Time Taken = 0.17841863632202148 seconds\n",
      "Matrix 794: Frobenius Norm = 2457.24658203125, Time Taken = 0.17841863632202148 seconds\n",
      "Matrix 795: Frobenius Norm = 2483.243408203125, Time Taken = 0.17841863632202148 seconds\n",
      "Matrix 796: Frobenius Norm = 2511.595458984375, Time Taken = 0.17841863632202148 seconds\n",
      "Matrix 797: Frobenius Norm = 2524.56982421875, Time Taken = 0.17841863632202148 seconds\n",
      "Matrix 798: Frobenius Norm = 2503.03466796875, Time Taken = 0.17841863632202148 seconds\n",
      "Matrix 799: Frobenius Norm = 2545.39208984375, Time Taken = 0.17841863632202148 seconds\n",
      "Matrix 800: Frobenius Norm = 2494.093994140625, Time Taken = 0.17841863632202148 seconds\n",
      "Matrix 801: Frobenius Norm = 2475.733642578125, Time Taken = 0.17941880226135254 seconds\n",
      "Matrix 802: Frobenius Norm = 2477.013671875, Time Taken = 0.17941880226135254 seconds\n",
      "Matrix 803: Frobenius Norm = 2519.46337890625, Time Taken = 0.17941880226135254 seconds\n",
      "Matrix 804: Frobenius Norm = 2494.595458984375, Time Taken = 0.17941880226135254 seconds\n",
      "Matrix 805: Frobenius Norm = 2508.37548828125, Time Taken = 0.17941880226135254 seconds\n",
      "Matrix 806: Frobenius Norm = 2485.18017578125, Time Taken = 0.17941880226135254 seconds\n",
      "Matrix 807: Frobenius Norm = 2489.935791015625, Time Taken = 0.17941880226135254 seconds\n",
      "Matrix 808: Frobenius Norm = 2500.0625, Time Taken = 0.17941880226135254 seconds\n",
      "Matrix 809: Frobenius Norm = 2568.700439453125, Time Taken = 0.17941880226135254 seconds\n",
      "Matrix 810: Frobenius Norm = 2512.290283203125, Time Taken = 0.17941880226135254 seconds\n",
      "Matrix 811: Frobenius Norm = 2476.1279296875, Time Taken = 0.17941880226135254 seconds\n",
      "Matrix 812: Frobenius Norm = 2490.82958984375, Time Taken = 0.17941880226135254 seconds\n",
      "Matrix 813: Frobenius Norm = 2514.671630859375, Time Taken = 0.17941880226135254 seconds\n",
      "Matrix 814: Frobenius Norm = 2513.789306640625, Time Taken = 0.17941880226135254 seconds\n",
      "Matrix 815: Frobenius Norm = 2525.704833984375, Time Taken = 0.17941880226135254 seconds\n",
      "Matrix 816: Frobenius Norm = 2508.176025390625, Time Taken = 0.1804187297821045 seconds\n",
      "Matrix 817: Frobenius Norm = 2480.3037109375, Time Taken = 0.1804187297821045 seconds\n",
      "Matrix 818: Frobenius Norm = 2487.6376953125, Time Taken = 0.1804187297821045 seconds\n",
      "Matrix 819: Frobenius Norm = 2482.0546875, Time Taken = 0.1804187297821045 seconds\n",
      "Matrix 820: Frobenius Norm = 2527.416748046875, Time Taken = 0.1804187297821045 seconds\n",
      "Matrix 821: Frobenius Norm = 2484.33642578125, Time Taken = 0.1804187297821045 seconds\n",
      "Matrix 822: Frobenius Norm = 2504.462158203125, Time Taken = 0.1804187297821045 seconds\n",
      "Matrix 823: Frobenius Norm = 2500.7919921875, Time Taken = 0.1804187297821045 seconds\n",
      "Matrix 824: Frobenius Norm = 2490.82177734375, Time Taken = 0.1804187297821045 seconds\n",
      "Matrix 825: Frobenius Norm = 2520.779541015625, Time Taken = 0.1804187297821045 seconds\n",
      "Matrix 826: Frobenius Norm = 2504.482421875, Time Taken = 0.1804187297821045 seconds\n",
      "Matrix 827: Frobenius Norm = 2459.907470703125, Time Taken = 0.1804187297821045 seconds\n",
      "Matrix 828: Frobenius Norm = 2507.68701171875, Time Taken = 0.1804187297821045 seconds\n",
      "Matrix 829: Frobenius Norm = 2504.156005859375, Time Taken = 0.1804187297821045 seconds\n",
      "Matrix 830: Frobenius Norm = 2488.304443359375, Time Taken = 0.1804187297821045 seconds\n",
      "Matrix 831: Frobenius Norm = 2505.976806640625, Time Taken = 0.18141865730285645 seconds\n",
      "Matrix 832: Frobenius Norm = 2513.039794921875, Time Taken = 0.18141865730285645 seconds\n",
      "Matrix 833: Frobenius Norm = 2558.50732421875, Time Taken = 0.18141865730285645 seconds\n",
      "Matrix 834: Frobenius Norm = 2507.8369140625, Time Taken = 0.18141865730285645 seconds\n",
      "Matrix 835: Frobenius Norm = 2530.08447265625, Time Taken = 0.18141865730285645 seconds\n",
      "Matrix 836: Frobenius Norm = 2470.7353515625, Time Taken = 0.18141865730285645 seconds\n",
      "Matrix 837: Frobenius Norm = 2481.50146484375, Time Taken = 0.18141865730285645 seconds\n",
      "Matrix 838: Frobenius Norm = 2538.255126953125, Time Taken = 0.18141865730285645 seconds\n",
      "Matrix 839: Frobenius Norm = 2533.818115234375, Time Taken = 0.18141865730285645 seconds\n",
      "Matrix 840: Frobenius Norm = 2560.098388671875, Time Taken = 0.18141865730285645 seconds\n",
      "Matrix 841: Frobenius Norm = 2528.332763671875, Time Taken = 0.18141865730285645 seconds\n",
      "Matrix 842: Frobenius Norm = 2530.259765625, Time Taken = 0.18141865730285645 seconds\n",
      "Matrix 843: Frobenius Norm = 2540.9462890625, Time Taken = 0.18141865730285645 seconds\n",
      "Matrix 844: Frobenius Norm = 2510.8720703125, Time Taken = 0.18141865730285645 seconds\n",
      "Matrix 845: Frobenius Norm = 2495.876220703125, Time Taken = 0.18141865730285645 seconds\n",
      "Matrix 846: Frobenius Norm = 2500.97265625, Time Taken = 0.1824188232421875 seconds\n",
      "Matrix 847: Frobenius Norm = 2500.677001953125, Time Taken = 0.1824188232421875 seconds\n",
      "Matrix 848: Frobenius Norm = 2535.508056640625, Time Taken = 0.1824188232421875 seconds\n",
      "Matrix 849: Frobenius Norm = 2501.372802734375, Time Taken = 0.1824188232421875 seconds\n",
      "Matrix 850: Frobenius Norm = 2503.87548828125, Time Taken = 0.1824188232421875 seconds\n",
      "Matrix 851: Frobenius Norm = 2509.1103515625, Time Taken = 0.1824188232421875 seconds\n",
      "Matrix 852: Frobenius Norm = 2513.7099609375, Time Taken = 0.1824188232421875 seconds\n",
      "Matrix 853: Frobenius Norm = 2479.136962890625, Time Taken = 0.1824188232421875 seconds\n",
      "Matrix 854: Frobenius Norm = 2502.41455078125, Time Taken = 0.1824188232421875 seconds\n",
      "Matrix 855: Frobenius Norm = 2515.695068359375, Time Taken = 0.1824188232421875 seconds\n",
      "Matrix 856: Frobenius Norm = 2537.37890625, Time Taken = 0.1824188232421875 seconds\n",
      "Matrix 857: Frobenius Norm = 2502.403564453125, Time Taken = 0.1824188232421875 seconds\n",
      "Matrix 858: Frobenius Norm = 2483.566650390625, Time Taken = 0.1824188232421875 seconds\n",
      "Matrix 859: Frobenius Norm = 2541.6123046875, Time Taken = 0.1824188232421875 seconds\n",
      "Matrix 860: Frobenius Norm = 2521.65966796875, Time Taken = 0.1824188232421875 seconds\n",
      "Matrix 861: Frobenius Norm = 2507.31787109375, Time Taken = 0.18341851234436035 seconds\n",
      "Matrix 862: Frobenius Norm = 2494.86181640625, Time Taken = 0.18341851234436035 seconds\n",
      "Matrix 863: Frobenius Norm = 2523.9794921875, Time Taken = 0.18341851234436035 seconds\n",
      "Matrix 864: Frobenius Norm = 2539.00048828125, Time Taken = 0.18341851234436035 seconds\n",
      "Matrix 865: Frobenius Norm = 2480.35205078125, Time Taken = 0.18341851234436035 seconds\n",
      "Matrix 866: Frobenius Norm = 2467.918212890625, Time Taken = 0.18341851234436035 seconds\n",
      "Matrix 867: Frobenius Norm = 2466.378662109375, Time Taken = 0.18341851234436035 seconds\n",
      "Matrix 868: Frobenius Norm = 2516.250244140625, Time Taken = 0.18341851234436035 seconds\n",
      "Matrix 869: Frobenius Norm = 2542.560546875, Time Taken = 0.18341851234436035 seconds\n",
      "Matrix 870: Frobenius Norm = 2475.874267578125, Time Taken = 0.18442106246948242 seconds\n",
      "Matrix 871: Frobenius Norm = 2537.274658203125, Time Taken = 0.18442106246948242 seconds\n",
      "Matrix 872: Frobenius Norm = 2483.199462890625, Time Taken = 0.18442106246948242 seconds\n",
      "Matrix 873: Frobenius Norm = 2513.082275390625, Time Taken = 0.18442106246948242 seconds\n",
      "Matrix 874: Frobenius Norm = 2510.1513671875, Time Taken = 0.18442106246948242 seconds\n",
      "Matrix 875: Frobenius Norm = 2507.0078125, Time Taken = 0.18442106246948242 seconds\n",
      "Matrix 876: Frobenius Norm = 2528.618408203125, Time Taken = 0.18442106246948242 seconds\n",
      "Matrix 877: Frobenius Norm = 2511.221435546875, Time Taken = 0.18442106246948242 seconds\n",
      "Matrix 878: Frobenius Norm = 2469.946044921875, Time Taken = 0.18442106246948242 seconds\n",
      "Matrix 879: Frobenius Norm = 2480.563232421875, Time Taken = 0.18442106246948242 seconds\n",
      "Matrix 880: Frobenius Norm = 2538.620361328125, Time Taken = 0.18442106246948242 seconds\n",
      "Matrix 881: Frobenius Norm = 2511.78955078125, Time Taken = 0.18442106246948242 seconds\n",
      "Matrix 882: Frobenius Norm = 2489.35498046875, Time Taken = 0.18442106246948242 seconds\n",
      "Matrix 883: Frobenius Norm = 2549.022705078125, Time Taken = 0.18442106246948242 seconds\n",
      "Matrix 884: Frobenius Norm = 2508.478759765625, Time Taken = 0.18442106246948242 seconds\n",
      "Matrix 885: Frobenius Norm = 2535.8984375, Time Taken = 0.18541908264160156 seconds\n",
      "Matrix 886: Frobenius Norm = 2469.62841796875, Time Taken = 0.18541908264160156 seconds\n",
      "Matrix 887: Frobenius Norm = 2449.93408203125, Time Taken = 0.18541908264160156 seconds\n",
      "Matrix 888: Frobenius Norm = 2492.861328125, Time Taken = 0.18541908264160156 seconds\n",
      "Matrix 889: Frobenius Norm = 2501.95068359375, Time Taken = 0.18541908264160156 seconds\n",
      "Matrix 890: Frobenius Norm = 2500.269287109375, Time Taken = 0.18541908264160156 seconds\n",
      "Matrix 891: Frobenius Norm = 2521.73681640625, Time Taken = 0.18541908264160156 seconds\n",
      "Matrix 892: Frobenius Norm = 2490.107421875, Time Taken = 0.18541908264160156 seconds\n",
      "Matrix 893: Frobenius Norm = 2485.28515625, Time Taken = 0.18541908264160156 seconds\n",
      "Matrix 894: Frobenius Norm = 2498.7236328125, Time Taken = 0.18541908264160156 seconds\n",
      "Matrix 895: Frobenius Norm = 2466.298828125, Time Taken = 0.18541908264160156 seconds\n",
      "Matrix 896: Frobenius Norm = 2460.88427734375, Time Taken = 0.18541908264160156 seconds\n",
      "Matrix 897: Frobenius Norm = 2542.335693359375, Time Taken = 0.18541908264160156 seconds\n",
      "Matrix 898: Frobenius Norm = 2505.322509765625, Time Taken = 0.18541908264160156 seconds\n",
      "Matrix 899: Frobenius Norm = 2498.878662109375, Time Taken = 0.18541908264160156 seconds\n",
      "Matrix 900: Frobenius Norm = 2517.937255859375, Time Taken = 0.18641877174377441 seconds\n",
      "Matrix 901: Frobenius Norm = 2530.3701171875, Time Taken = 0.18641877174377441 seconds\n",
      "Matrix 902: Frobenius Norm = 2504.979736328125, Time Taken = 0.18641877174377441 seconds\n",
      "Matrix 903: Frobenius Norm = 2551.792724609375, Time Taken = 0.18641877174377441 seconds\n",
      "Matrix 904: Frobenius Norm = 2471.738037109375, Time Taken = 0.18641877174377441 seconds\n",
      "Matrix 905: Frobenius Norm = 2501.938720703125, Time Taken = 0.18641877174377441 seconds\n",
      "Matrix 906: Frobenius Norm = 2484.218017578125, Time Taken = 0.18641877174377441 seconds\n",
      "Matrix 907: Frobenius Norm = 2490.552734375, Time Taken = 0.18641877174377441 seconds\n",
      "Matrix 908: Frobenius Norm = 2529.094970703125, Time Taken = 0.18641877174377441 seconds\n",
      "Matrix 909: Frobenius Norm = 2505.0859375, Time Taken = 0.18641877174377441 seconds\n",
      "Matrix 910: Frobenius Norm = 2519.247802734375, Time Taken = 0.18641877174377441 seconds\n",
      "Matrix 911: Frobenius Norm = 2509.489013671875, Time Taken = 0.18641877174377441 seconds\n",
      "Matrix 912: Frobenius Norm = 2499.4375, Time Taken = 0.18641877174377441 seconds\n",
      "Matrix 913: Frobenius Norm = 2517.322509765625, Time Taken = 0.18641877174377441 seconds\n",
      "Matrix 914: Frobenius Norm = 2496.635986328125, Time Taken = 0.18641877174377441 seconds\n",
      "Matrix 915: Frobenius Norm = 2536.194091796875, Time Taken = 0.18741917610168457 seconds\n",
      "Matrix 916: Frobenius Norm = 2527.0009765625, Time Taken = 0.18741917610168457 seconds\n",
      "Matrix 917: Frobenius Norm = 2445.22216796875, Time Taken = 0.18741917610168457 seconds\n",
      "Matrix 918: Frobenius Norm = 2516.489501953125, Time Taken = 0.18741917610168457 seconds\n",
      "Matrix 919: Frobenius Norm = 2507.140869140625, Time Taken = 0.18741917610168457 seconds\n",
      "Matrix 920: Frobenius Norm = 2499.0224609375, Time Taken = 0.18741917610168457 seconds\n",
      "Matrix 921: Frobenius Norm = 2499.784912109375, Time Taken = 0.18741917610168457 seconds\n",
      "Matrix 922: Frobenius Norm = 2436.82421875, Time Taken = 0.18841958045959473 seconds\n",
      "Matrix 923: Frobenius Norm = 2527.994140625, Time Taken = 0.18841958045959473 seconds\n",
      "Matrix 924: Frobenius Norm = 2485.9951171875, Time Taken = 0.18841958045959473 seconds\n",
      "Matrix 925: Frobenius Norm = 2521.03515625, Time Taken = 0.18841958045959473 seconds\n",
      "Matrix 926: Frobenius Norm = 2549.076416015625, Time Taken = 0.18841958045959473 seconds\n",
      "Matrix 927: Frobenius Norm = 2519.4892578125, Time Taken = 0.18841958045959473 seconds\n",
      "Matrix 928: Frobenius Norm = 2507.341796875, Time Taken = 0.18841958045959473 seconds\n",
      "Matrix 929: Frobenius Norm = 2517.805908203125, Time Taken = 0.18841958045959473 seconds\n",
      "Matrix 930: Frobenius Norm = 2516.615234375, Time Taken = 0.18841958045959473 seconds\n",
      "Matrix 931: Frobenius Norm = 2484.742431640625, Time Taken = 0.18841958045959473 seconds\n",
      "Matrix 932: Frobenius Norm = 2494.803466796875, Time Taken = 0.18841958045959473 seconds\n",
      "Matrix 933: Frobenius Norm = 2472.8212890625, Time Taken = 0.18841958045959473 seconds\n",
      "Matrix 934: Frobenius Norm = 2491.539306640625, Time Taken = 0.18841958045959473 seconds\n",
      "Matrix 935: Frobenius Norm = 2497.56396484375, Time Taken = 0.18841958045959473 seconds\n",
      "Matrix 936: Frobenius Norm = 2476.552978515625, Time Taken = 0.18841958045959473 seconds\n",
      "Matrix 937: Frobenius Norm = 2551.7373046875, Time Taken = 0.18941974639892578 seconds\n",
      "Matrix 938: Frobenius Norm = 2510.76513671875, Time Taken = 0.18941974639892578 seconds\n",
      "Matrix 939: Frobenius Norm = 2513.29736328125, Time Taken = 0.18941974639892578 seconds\n",
      "Matrix 940: Frobenius Norm = 2516.51611328125, Time Taken = 0.18941974639892578 seconds\n",
      "Matrix 941: Frobenius Norm = 2525.04052734375, Time Taken = 0.18941974639892578 seconds\n",
      "Matrix 942: Frobenius Norm = 2496.154541015625, Time Taken = 0.18941974639892578 seconds\n",
      "Matrix 943: Frobenius Norm = 2556.888427734375, Time Taken = 0.18941974639892578 seconds\n",
      "Matrix 944: Frobenius Norm = 2497.179931640625, Time Taken = 0.18941974639892578 seconds\n",
      "Matrix 945: Frobenius Norm = 2495.575927734375, Time Taken = 0.18941974639892578 seconds\n",
      "Matrix 946: Frobenius Norm = 2525.443115234375, Time Taken = 0.18941974639892578 seconds\n",
      "Matrix 947: Frobenius Norm = 2486.18310546875, Time Taken = 0.18941974639892578 seconds\n",
      "Matrix 948: Frobenius Norm = 2497.3427734375, Time Taken = 0.19041895866394043 seconds\n",
      "Matrix 949: Frobenius Norm = 2500.518310546875, Time Taken = 0.19041895866394043 seconds\n",
      "Matrix 950: Frobenius Norm = 2522.5859375, Time Taken = 0.19041895866394043 seconds\n",
      "Matrix 951: Frobenius Norm = 2535.184814453125, Time Taken = 0.19041895866394043 seconds\n",
      "Matrix 952: Frobenius Norm = 2562.2802734375, Time Taken = 0.19041895866394043 seconds\n",
      "Matrix 953: Frobenius Norm = 2476.412353515625, Time Taken = 0.19041895866394043 seconds\n",
      "Matrix 954: Frobenius Norm = 2512.026611328125, Time Taken = 0.19041895866394043 seconds\n",
      "Matrix 955: Frobenius Norm = 2492.68896484375, Time Taken = 0.19041895866394043 seconds\n",
      "Matrix 956: Frobenius Norm = 2482.031005859375, Time Taken = 0.19041895866394043 seconds\n",
      "Matrix 957: Frobenius Norm = 2539.72412109375, Time Taken = 0.19041895866394043 seconds\n",
      "Matrix 958: Frobenius Norm = 2505.421630859375, Time Taken = 0.19141912460327148 seconds\n",
      "Matrix 959: Frobenius Norm = 2493.6142578125, Time Taken = 0.19141912460327148 seconds\n",
      "Matrix 960: Frobenius Norm = 2493.763671875, Time Taken = 0.19141912460327148 seconds\n",
      "Matrix 961: Frobenius Norm = 2549.845703125, Time Taken = 0.19141912460327148 seconds\n",
      "Matrix 962: Frobenius Norm = 2488.624267578125, Time Taken = 0.19141912460327148 seconds\n",
      "Matrix 963: Frobenius Norm = 2453.75732421875, Time Taken = 0.19141912460327148 seconds\n",
      "Matrix 964: Frobenius Norm = 2571.005615234375, Time Taken = 0.19141912460327148 seconds\n",
      "Matrix 965: Frobenius Norm = 2492.471435546875, Time Taken = 0.19141912460327148 seconds\n",
      "Matrix 966: Frobenius Norm = 2492.085205078125, Time Taken = 0.19141912460327148 seconds\n",
      "Matrix 967: Frobenius Norm = 2451.89697265625, Time Taken = 0.19141912460327148 seconds\n",
      "Matrix 968: Frobenius Norm = 2483.93310546875, Time Taken = 0.19141912460327148 seconds\n",
      "Matrix 969: Frobenius Norm = 2506.732666015625, Time Taken = 0.19141912460327148 seconds\n",
      "Matrix 970: Frobenius Norm = 2487.94921875, Time Taken = 0.19141912460327148 seconds\n",
      "Matrix 971: Frobenius Norm = 2486.435791015625, Time Taken = 0.19141912460327148 seconds\n",
      "Matrix 972: Frobenius Norm = 2501.565185546875, Time Taken = 0.19141912460327148 seconds\n",
      "Matrix 973: Frobenius Norm = 2502.063232421875, Time Taken = 0.19241881370544434 seconds\n",
      "Matrix 974: Frobenius Norm = 2489.390625, Time Taken = 0.19241881370544434 seconds\n",
      "Matrix 975: Frobenius Norm = 2529.372314453125, Time Taken = 0.19241881370544434 seconds\n",
      "Matrix 976: Frobenius Norm = 2459.096435546875, Time Taken = 0.19241881370544434 seconds\n",
      "Matrix 977: Frobenius Norm = 2527.298095703125, Time Taken = 0.19241881370544434 seconds\n",
      "Matrix 978: Frobenius Norm = 2518.833251953125, Time Taken = 0.19241881370544434 seconds\n",
      "Matrix 979: Frobenius Norm = 2497.60595703125, Time Taken = 0.19241881370544434 seconds\n",
      "Matrix 980: Frobenius Norm = 2494.93798828125, Time Taken = 0.19241881370544434 seconds\n",
      "Matrix 981: Frobenius Norm = 2558.37890625, Time Taken = 0.19241881370544434 seconds\n",
      "Matrix 982: Frobenius Norm = 2520.28173828125, Time Taken = 0.19241881370544434 seconds\n",
      "Matrix 983: Frobenius Norm = 2530.801513671875, Time Taken = 0.19241881370544434 seconds\n",
      "Matrix 984: Frobenius Norm = 2501.56396484375, Time Taken = 0.19241881370544434 seconds\n",
      "Matrix 985: Frobenius Norm = 2547.599365234375, Time Taken = 0.19241881370544434 seconds\n",
      "Matrix 986: Frobenius Norm = 2513.337158203125, Time Taken = 0.19241881370544434 seconds\n",
      "Matrix 987: Frobenius Norm = 2467.494873046875, Time Taken = 0.19241881370544434 seconds\n",
      "Matrix 988: Frobenius Norm = 2544.4189453125, Time Taken = 0.1934187412261963 seconds\n",
      "Matrix 989: Frobenius Norm = 2481.556884765625, Time Taken = 0.1934187412261963 seconds\n",
      "Matrix 990: Frobenius Norm = 2489.92919921875, Time Taken = 0.1934187412261963 seconds\n",
      "Matrix 991: Frobenius Norm = 2537.922607421875, Time Taken = 0.1934187412261963 seconds\n",
      "Matrix 992: Frobenius Norm = 2581.064208984375, Time Taken = 0.1934187412261963 seconds\n",
      "Matrix 993: Frobenius Norm = 2504.48486328125, Time Taken = 0.1934187412261963 seconds\n",
      "Matrix 994: Frobenius Norm = 2507.7177734375, Time Taken = 0.1934187412261963 seconds\n",
      "Matrix 995: Frobenius Norm = 2550.998779296875, Time Taken = 0.1934187412261963 seconds\n",
      "Matrix 996: Frobenius Norm = 2550.030517578125, Time Taken = 0.1934187412261963 seconds\n",
      "Matrix 997: Frobenius Norm = 2526.159912109375, Time Taken = 0.1934187412261963 seconds\n",
      "Matrix 998: Frobenius Norm = 2545.534912109375, Time Taken = 0.1934187412261963 seconds\n",
      "Matrix 999: Frobenius Norm = 2501.437255859375, Time Taken = 0.19441866874694824 seconds\n",
      "Matrix 1000: Frobenius Norm = 2524.47509765625, Time Taken = 0.19441866874694824 seconds\n",
      "Total time taken: 0.19441866874694824 seconds\n"
     ]
    }
   ],
   "source": [
    "import torch\n",
    "import time\n",
    "\n",
    "# 设定矩阵的大小\n",
    "matrix_size = 100\n",
    "num_matrices = 1000\n",
    "\n",
    "# 初始化随机矩阵列表\n",
    "matrices = [torch.rand(matrix_size, matrix_size, device='cuda') for _ in range(num_matrices)]\n",
    "\n",
    "# 初始化结果列表\n",
    "results = []\n",
    "\n",
    "# 开始计时\n",
    "start_time = time.time()\n",
    "\n",
    "# 循环计算矩阵乘法和Frobenius范数\n",
    "for i in range(num_matrices):\n",
    "    # 矩阵乘法\n",
    "    result = torch.matmul(matrices[i], matrices[i])\n",
    "    \n",
    "    # 计算Frobenius范数\n",
    "    frobenius_norm = torch.norm(result).item()\n",
    "    \n",
    "    # 记录结果和时间\n",
    "    results.append((frobenius_norm, time.time() - start_time))\n",
    "    print(f\"Matrix {i+1}: Frobenius Norm = {results[-1][0]}, Time Taken = {results[-1][-1]} seconds\")\n",
    "\n",
    "# 结束计时\n",
    "end_time = time.time()\n",
    "\n",
    "# 打印总时间\n",
    "print(f\"Total time taken: {end_time - start_time} seconds\")\n"
   ]
  },
  {
   "cell_type": "markdown",
   "id": "0460f3be",
   "metadata": {
    "origin_pos": 64,
    "tab": [
     "pytorch"
    ]
   },
   "source": [
    "[Discussions](https://discuss.d2l.ai/t/1841)\n"
   ]
  }
 ],
 "metadata": {
  "kernelspec": {
   "display_name": "d2l-zh",
   "language": "python",
   "name": "python3"
  },
  "language_info": {
   "codemirror_mode": {
    "name": "ipython",
    "version": 3
   },
   "file_extension": ".py",
   "mimetype": "text/x-python",
   "name": "python",
   "nbconvert_exporter": "python",
   "pygments_lexer": "ipython3",
   "version": "3.8.19"
  },
  "required_libs": []
 },
 "nbformat": 4,
 "nbformat_minor": 5
}
